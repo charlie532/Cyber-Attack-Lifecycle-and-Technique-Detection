{
 "cells": [
  {
   "attachments": {},
   "cell_type": "markdown",
   "metadata": {},
   "source": [
    "Informations:\n",
    "* Data collecting tool: **Rsyslog**  \n",
    "* Features extraction tool: **Drain**"
   ]
  },
  {
   "cell_type": "code",
   "execution_count": 1,
   "metadata": {},
   "outputs": [],
   "source": [
    "import os\n",
    "import pandas as pd\n",
    "from matplotlib import pyplot as plt\n",
    "import numpy as np\n",
    "import json\n",
    "import numpy as np\n",
    "\n",
    "folder = os.path.join(\"..\", \"0_dataset\", \"syslog\")\n",
    "filename = 'original_label_syslog.csv'\n",
    "filename_label = 'preprocess_label_syslog.csv'\n",
    "filename_label_lifecycle = \"lifecycle_\"+filename_label\n",
    "filename_sequence_1sec = \"fix_1sec.csv\"\n",
    "\n",
    "# for lifecycle labeling\n",
    "filenames = [['label_syslog_disk_wipe.csv', 2],\n",
    "               ['label_syslog_end_point_dos.csv', 5],\n",
    "               ['label_syslog_mirai.csv', 1],\n",
    "               ['label_syslog_ransomware.csv', 3],\n",
    "               ['label_syslog_resource_hijacking.csv', 4]]"
   ]
  },
  {
   "attachments": {},
   "cell_type": "markdown",
   "metadata": {},
   "source": [
    "Preprocessing (vector conuting)"
   ]
  },
  {
   "cell_type": "code",
   "execution_count": 2,
   "metadata": {},
   "outputs": [
    {
     "name": "stdout",
     "output_type": "stream",
     "text": [
      "label uniques: [0, 1, 2, 3, 4, 6, 7, 8, 9, 10, 11, 12, 13, 14, 15, 16, 17]\n",
      "number of timestamp: 6713\n",
      "\n",
      "\n",
      "-------------------------------------\n",
      "\n",
      "file name:label_syslog_mirai.csv\n",
      "labels: [0, 1, 2, 3, 9, 11, 13]\n",
      "\n",
      "\n",
      "-------------------------------------\n",
      "\n",
      "file name:label_syslog_disk_wipe.csv\n",
      "labels: [0, 1, 2, 4, 6, 8, 14]\n",
      "\n",
      "\n",
      "-------------------------------------\n",
      "\n",
      "file name:label_syslog_ransomware.csv\n",
      "labels: [0, 1, 2, 4, 6, 7, 12, 15]\n",
      "\n",
      "\n",
      "-------------------------------------\n",
      "\n",
      "file name:label_syslog_resource_hijacking.csv\n",
      "labels: [0, 1, 2, 4, 6, 8, 16]\n",
      "\n",
      "\n",
      "-------------------------------------\n",
      "\n",
      "file name:label_syslog_end_point_dos.csv\n",
      "labels: [0, 1, 2, 4, 8, 10, 17]\n"
     ]
    },
    {
     "ename": "KeyboardInterrupt",
     "evalue": "",
     "output_type": "error",
     "traceback": [
      "\u001b[1;31m---------------------------------------------------------------------------\u001b[0m",
      "\u001b[1;31mKeyboardInterrupt\u001b[0m                         Traceback (most recent call last)",
      "Cell \u001b[1;32mIn[2], line 64\u001b[0m\n\u001b[0;32m     61\u001b[0m         sum_one_hot[\u001b[39m'\u001b[39m\u001b[39mLabel\u001b[39m\u001b[39m'\u001b[39m] \u001b[39m=\u001b[39m max_label\n\u001b[0;32m     62\u001b[0m         sum_one_hot[\u001b[39m'\u001b[39m\u001b[39mTimestamp\u001b[39m\u001b[39m'\u001b[39m] \u001b[39m=\u001b[39m tmp_timestamp\n\u001b[1;32m---> 64\u001b[0m         df_count_vector \u001b[39m=\u001b[39m pd\u001b[39m.\u001b[39;49mconcat([df_count_vector, sum_one_hot], ignore_index\u001b[39m=\u001b[39;49m\u001b[39mTrue\u001b[39;49;00m)\n\u001b[0;32m     66\u001b[0m output_file \u001b[39m=\u001b[39m os\u001b[39m.\u001b[39mpath\u001b[39m.\u001b[39mjoin(folder, filename_label)\n\u001b[0;32m     67\u001b[0m df_count_vector\u001b[39m.\u001b[39mto_csv(output_file, encoding\u001b[39m=\u001b[39m\u001b[39m'\u001b[39m\u001b[39mutf-8\u001b[39m\u001b[39m'\u001b[39m, index\u001b[39m=\u001b[39m\u001b[39mFalse\u001b[39;00m)\n",
      "File \u001b[1;32mc:\\Users\\user\\anaconda3\\envs\\lab\\lib\\site-packages\\pandas\\util\\_decorators.py:311\u001b[0m, in \u001b[0;36mdeprecate_nonkeyword_arguments.<locals>.decorate.<locals>.wrapper\u001b[1;34m(*args, **kwargs)\u001b[0m\n\u001b[0;32m    305\u001b[0m \u001b[39mif\u001b[39;00m \u001b[39mlen\u001b[39m(args) \u001b[39m>\u001b[39m num_allow_args:\n\u001b[0;32m    306\u001b[0m     warnings\u001b[39m.\u001b[39mwarn(\n\u001b[0;32m    307\u001b[0m         msg\u001b[39m.\u001b[39mformat(arguments\u001b[39m=\u001b[39marguments),\n\u001b[0;32m    308\u001b[0m         \u001b[39mFutureWarning\u001b[39;00m,\n\u001b[0;32m    309\u001b[0m         stacklevel\u001b[39m=\u001b[39mstacklevel,\n\u001b[0;32m    310\u001b[0m     )\n\u001b[1;32m--> 311\u001b[0m \u001b[39mreturn\u001b[39;00m func(\u001b[39m*\u001b[39;49margs, \u001b[39m*\u001b[39;49m\u001b[39m*\u001b[39;49mkwargs)\n",
      "File \u001b[1;32mc:\\Users\\user\\anaconda3\\envs\\lab\\lib\\site-packages\\pandas\\core\\reshape\\concat.py:360\u001b[0m, in \u001b[0;36mconcat\u001b[1;34m(objs, axis, join, ignore_index, keys, levels, names, verify_integrity, sort, copy)\u001b[0m\n\u001b[0;32m    156\u001b[0m \u001b[39m\u001b[39m\u001b[39m\"\"\"\u001b[39;00m\n\u001b[0;32m    157\u001b[0m \u001b[39mConcatenate pandas objects along a particular axis with optional set logic\u001b[39;00m\n\u001b[0;32m    158\u001b[0m \u001b[39malong the other axes.\u001b[39;00m\n\u001b[1;32m   (...)\u001b[0m\n\u001b[0;32m    345\u001b[0m \u001b[39mValueError: Indexes have overlapping values: ['a']\u001b[39;00m\n\u001b[0;32m    346\u001b[0m \u001b[39m\"\"\"\u001b[39;00m\n\u001b[0;32m    347\u001b[0m op \u001b[39m=\u001b[39m _Concatenator(\n\u001b[0;32m    348\u001b[0m     objs,\n\u001b[0;32m    349\u001b[0m     axis\u001b[39m=\u001b[39maxis,\n\u001b[1;32m   (...)\u001b[0m\n\u001b[0;32m    357\u001b[0m     sort\u001b[39m=\u001b[39msort,\n\u001b[0;32m    358\u001b[0m )\n\u001b[1;32m--> 360\u001b[0m \u001b[39mreturn\u001b[39;00m op\u001b[39m.\u001b[39;49mget_result()\n",
      "File \u001b[1;32mc:\\Users\\user\\anaconda3\\envs\\lab\\lib\\site-packages\\pandas\\core\\reshape\\concat.py:595\u001b[0m, in \u001b[0;36m_Concatenator.get_result\u001b[1;34m(self)\u001b[0m\n\u001b[0;32m    591\u001b[0m             indexers[ax] \u001b[39m=\u001b[39m obj_labels\u001b[39m.\u001b[39mget_indexer(new_labels)\n\u001b[0;32m    593\u001b[0m     mgrs_indexers\u001b[39m.\u001b[39mappend((obj\u001b[39m.\u001b[39m_mgr, indexers))\n\u001b[1;32m--> 595\u001b[0m new_data \u001b[39m=\u001b[39m concatenate_managers(\n\u001b[0;32m    596\u001b[0m     mgrs_indexers, \u001b[39mself\u001b[39;49m\u001b[39m.\u001b[39;49mnew_axes, concat_axis\u001b[39m=\u001b[39;49m\u001b[39mself\u001b[39;49m\u001b[39m.\u001b[39;49mbm_axis, copy\u001b[39m=\u001b[39;49m\u001b[39mself\u001b[39;49m\u001b[39m.\u001b[39;49mcopy\n\u001b[0;32m    597\u001b[0m )\n\u001b[0;32m    598\u001b[0m \u001b[39mif\u001b[39;00m \u001b[39mnot\u001b[39;00m \u001b[39mself\u001b[39m\u001b[39m.\u001b[39mcopy:\n\u001b[0;32m    599\u001b[0m     new_data\u001b[39m.\u001b[39m_consolidate_inplace()\n",
      "File \u001b[1;32mc:\\Users\\user\\anaconda3\\envs\\lab\\lib\\site-packages\\pandas\\core\\internals\\concat.py:232\u001b[0m, in \u001b[0;36mconcatenate_managers\u001b[1;34m(mgrs_indexers, axes, concat_axis, copy)\u001b[0m\n\u001b[0;32m    226\u001b[0m vals \u001b[39m=\u001b[39m [ju\u001b[39m.\u001b[39mblock\u001b[39m.\u001b[39mvalues \u001b[39mfor\u001b[39;00m ju \u001b[39min\u001b[39;00m join_units]\n\u001b[0;32m    228\u001b[0m \u001b[39mif\u001b[39;00m \u001b[39mnot\u001b[39;00m blk\u001b[39m.\u001b[39mis_extension:\n\u001b[0;32m    229\u001b[0m     \u001b[39m# _is_uniform_join_units ensures a single dtype, so\u001b[39;00m\n\u001b[0;32m    230\u001b[0m     \u001b[39m#  we can use np.concatenate, which is more performant\u001b[39;00m\n\u001b[0;32m    231\u001b[0m     \u001b[39m#  than concat_compat\u001b[39;00m\n\u001b[1;32m--> 232\u001b[0m     values \u001b[39m=\u001b[39m np\u001b[39m.\u001b[39;49mconcatenate(vals, axis\u001b[39m=\u001b[39;49m\u001b[39m1\u001b[39;49m)\n\u001b[0;32m    233\u001b[0m \u001b[39melse\u001b[39;00m:\n\u001b[0;32m    234\u001b[0m     \u001b[39m# TODO(EA2D): special-casing not needed with 2D EAs\u001b[39;00m\n\u001b[0;32m    235\u001b[0m     values \u001b[39m=\u001b[39m concat_compat(vals, axis\u001b[39m=\u001b[39m\u001b[39m1\u001b[39m)\n",
      "File \u001b[1;32m<__array_function__ internals>:200\u001b[0m, in \u001b[0;36mconcatenate\u001b[1;34m(*args, **kwargs)\u001b[0m\n",
      "\u001b[1;31mKeyboardInterrupt\u001b[0m: "
     ]
    }
   ],
   "source": [
    "col_list = ['HostName', 'EventTemplate', 'Timestamp', 'Label']\n",
    "one_hot_col_list = ['EventTemplate']\n",
    "# del_col_list = ['HostName', 'Timestamp']\n",
    "del_col_list = ['HostName']\n",
    "df = pd.read_csv(os.path.join(folder, filename), usecols=col_list)\n",
    "labels = sorted(df['Label'].unique())\n",
    "\n",
    "print('label uniques: {0}'.format(labels))\n",
    "print('number of timestamp: {0}'.format(len(df['Timestamp'].unique())))\n",
    "\n",
    "df = pd.get_dummies(df, columns=one_hot_col_list)\n",
    "\n",
    "hostnames = df['HostName'].unique()\n",
    "\n",
    "# simple analysis\n",
    "for tmp_filename, label in filenames:\n",
    "    print(\"\\n\")\n",
    "    print(\"-------------------------------------\\n\")\n",
    "    print(\"file name:{0}\".format(tmp_filename))\n",
    "    tmp_filename = os.path.join(folder, tmp_filename)\n",
    "    tmp_df = pd.read_csv(tmp_filename)\n",
    "\n",
    "    # simple analysis\n",
    "    tmp_labels = sorted(tmp_df['Label'].unique())\n",
    "    print('labels: {0}'.format(tmp_labels))\n",
    "\n",
    "df_count_vector = pd.DataFrame()\n",
    "\n",
    "df_machines = []\n",
    "unique_timestamps_machines = []\n",
    "for hostname in hostnames:\n",
    "    df_machines.append(df[df['HostName'] == hostname])\n",
    "\n",
    "for df_machine in df_machines:\n",
    "    unique_timestamps = list(set(df_machine['Timestamp']))\n",
    "    unique_timestamps_machines.append(unique_timestamps)\n",
    "\n",
    "# record templates by each second and machine\n",
    "for i in range(len(df_machines)):\n",
    "    df_machine = df_machines[i]\n",
    "    tmp_unique_timestamps = unique_timestamps_machines[i]\n",
    "    for tmp_timestamp in tmp_unique_timestamps:\n",
    "        tmp_df = df_machine[df_machine['Timestamp'] == tmp_timestamp]\n",
    "        tmp_df = tmp_df.drop(columns=del_col_list)\n",
    "        classes_num = {}\n",
    "        for j in labels:\n",
    "            class_num = len(tmp_df[tmp_df['Label'] == j])\n",
    "            if j != 0 and class_num > 0:\n",
    "                classes_num[j] = class_num\n",
    "        sum_one_hot = tmp_df.sum()\n",
    "        \n",
    "        # label according to most frequent technique\n",
    "        max_num = 0\n",
    "        max_label = 0\n",
    "        for key in classes_num:\n",
    "            if classes_num[key] > max_num:\n",
    "                max_num = classes_num[key]\n",
    "                max_label = key\n",
    "            \n",
    "        sum_one_hot = pd.DataFrame(sum_one_hot).transpose()\n",
    "        sum_one_hot['Label'] = max_label\n",
    "        sum_one_hot['Timestamp'] = tmp_timestamp\n",
    "        \n",
    "        df_count_vector = pd.concat([df_count_vector, sum_one_hot], ignore_index=True)\n",
    "        \n",
    "output_file = os.path.join(folder, filename_label)\n",
    "df_count_vector.to_csv(output_file, encoding='utf-8', index=False)"
   ]
  },
  {
   "attachments": {},
   "cell_type": "markdown",
   "metadata": {},
   "source": [
    "clean data from benign server"
   ]
  },
  {
   "cell_type": "code",
   "execution_count": 5,
   "metadata": {},
   "outputs": [],
   "source": [
    "df = pd.read_csv(os.path.join(folder, filename))\n",
    "df.loc[df['HostName'] == '192.168.56.171', 'Label'] = 0\n",
    "df.to_csv(os.path.join(folder, 'fix.csv'), encoding='utf-8', index=False)"
   ]
  },
  {
   "cell_type": "code",
   "execution_count": 6,
   "metadata": {},
   "outputs": [
    {
     "name": "stdout",
     "output_type": "stream",
     "text": [
      "['192.168.56.171' 'target-server' 'vulnerable-machine-1'\n",
      " 'non-vulnerable-machine-1' 'non-vulnerable-machine-2']\n",
      "192.168.56.171: [0]\n",
      "target-server: [0, 1, 2, 4, 6, 7, 8, 10, 12, 14, 15, 16, 17]\n",
      "vulnerable-machine-1: [0, 1, 2, 4, 6, 7, 8, 9, 10, 11, 12, 13, 14, 15, 16, 17]\n",
      "non-vulnerable-machine-1: [0]\n",
      "non-vulnerable-machine-2: [0]\n"
     ]
    }
   ],
   "source": [
    "# df = pd.read_csv(os.path.join(folder, 'old.csv'))\n",
    "df = pd.read_csv(os.path.join(folder, 'fix.csv'))\n",
    "print(df['HostName'].unique())\n",
    "for host in df['HostName'].unique():\n",
    "    print('{}: {}'.format(host, sorted(df.loc[df['HostName'] == host, 'Label'].unique())))\n",
    "# print(sorted(df.loc[df['HostName'] == '192.168.56.171', 'Label'].unique()))"
   ]
  },
  {
   "attachments": {},
   "cell_type": "markdown",
   "metadata": {},
   "source": [
    "label encoding for event templates"
   ]
  },
  {
   "cell_type": "code",
   "execution_count": 16,
   "metadata": {},
   "outputs": [
    {
     "name": "stdout",
     "output_type": "stream",
     "text": [
      "num of diff labels in template: 91\n"
     ]
    }
   ],
   "source": [
    "from sklearn.preprocessing import LabelEncoder\n",
    "\n",
    "df = pd.read_csv(os.path.join(folder, 'fix.csv'))\n",
    "labelencoder = LabelEncoder()\n",
    "df['EventTemplate'] = labelencoder.fit_transform(df['EventTemplate'])\n",
    "df.to_csv(os.path.join(folder, 'fix.csv'), encoding='utf-8', index=False)\n",
    "\n",
    "unique_num = len(df['EventTemplate'].unique())\n",
    "print(f'num of diff labels in template: {unique_num}')"
   ]
  },
  {
   "attachments": {},
   "cell_type": "markdown",
   "metadata": {},
   "source": [
    "merge templates and labels by second"
   ]
  },
  {
   "cell_type": "code",
   "execution_count": 15,
   "metadata": {},
   "outputs": [
    {
     "name": "stdout",
     "output_type": "stream",
     "text": [
      "max length: 1536\n",
      "         Timestamp                                      EventTemplate  Label\n",
      "0     1.673431e+09  [66, 4, 4, 4, 4, 4, 4, 4, 3, 4, 60, 68, 59, 4,...      0\n",
      "1     1.673431e+09            [65, 59, 68, 60, 3, 59, 68, 66, 65, 60]      0\n",
      "2     1.673431e+09  [65, 65, 65, 66, 65, 65, 3, 4, 4, 4, 4, 4, 4, ...      0\n",
      "3     1.673431e+09  [66, 68, 60, 59, 68, 60, 65, 66, 65, 65, 59, 6...      0\n",
      "4     1.673431e+09  [66, 4, 65, 65, 65, 65, 66, 65, 4, 4, 4, 4, 4,...      0\n",
      "...            ...                                                ...    ...\n",
      "6708  1.673441e+09  [66, 66, 70, 60, 68, 59, 65, 65, 65, 66, 65, 6...      0\n",
      "6709  1.673441e+09  [4, 65, 4, 4, 4, 4, 4, 4, 3, 4, 4, 4, 4, 4, 4,...     17\n",
      "6710  1.673441e+09  [3, 58, 65, 65, 66, 65, 60, 68, 59, 65, 66, 61...      0\n",
      "6711  1.673441e+09  [4, 4, 3, 4, 4, 4, 59, 4, 4, 4, 4, 4, 4, 4, 4,...     17\n",
      "6712  1.673441e+09  [65, 66, 65, 65, 66, 65, 59, 68, 60, 65, 66, 6...      0\n",
      "\n",
      "[6713 rows x 3 columns]\n"
     ]
    }
   ],
   "source": [
    "df = pd.read_csv(os.path.join(folder, 'fix.csv'))\n",
    "df = df.loc[:, ['EventTemplate', 'Label', 'Timestamp']]\n",
    "\n",
    "df_merged = pd.DataFrame()\n",
    "for t in df['Timestamp'].unique():\n",
    "    df_tmp = df[df['Timestamp'] == t]\n",
    "    \n",
    "    voting_label = {}\n",
    "    for label in df_tmp['Label'].values:\n",
    "        if label in voting_label:\n",
    "            voting_label[label] += 1\n",
    "        else:\n",
    "            voting_label[label] = 1\n",
    "    \n",
    "    if len(voting_label) == 1 and 0 in voting_label:\n",
    "        new_label = 0\n",
    "    else:\n",
    "        new_label = max(voting_label, key=voting_label.get)\n",
    "    \n",
    "    # df_str = df_tmp.groupby('Timestamp')['EventTemplate'].apply(lambda x: ' '.join(x)).reset_index()\n",
    "    df_str = df_tmp.groupby('Timestamp')['EventTemplate'].agg(lambda x: list(x.astype(int))).reset_index()\n",
    "    df_str['Label'] = new_label\n",
    "    df_merged = pd.concat([df_merged, df_str], ignore_index=True)\n",
    "\n",
    "\n",
    "output_file = os.path.join(folder, filename_sequence_1sec)\n",
    "df_merged.to_csv(output_file, encoding='utf-8', index=False)\n",
    "\n",
    "\n",
    "max_length = 0\n",
    "for i in df_merged['EventTemplate']:\n",
    "    if len(i) > max_length:\n",
    "        max_length = len(i)\n",
    "        \n",
    "print(f'max length: {max_length}')\n",
    "print(df_merged)"
   ]
  },
  {
   "attachments": {},
   "cell_type": "markdown",
   "metadata": {},
   "source": [
    "re-label to lifecycle"
   ]
  },
  {
   "cell_type": "code",
   "execution_count": 10,
   "metadata": {},
   "outputs": [
    {
     "name": "stdout",
     "output_type": "stream",
     "text": [
      "lifecycle labels: [0, 1, 2, 3, 4, 5]\n",
      "<bound method DataFrame.info of          Timestamp                                      EventTemplate  Label\n",
      "0     1.673431e+09  [66, 4, 4, 4, 4, 4, 4, 4, 3, 4, 60, 68, 59, 4,...      0\n",
      "1     1.673431e+09            [65, 59, 68, 60, 3, 59, 68, 66, 65, 60]      0\n",
      "2     1.673431e+09  [65, 65, 65, 66, 65, 65, 3, 4, 4, 4, 4, 4, 4, ...      0\n",
      "3     1.673431e+09  [66, 68, 60, 59, 68, 60, 65, 66, 65, 65, 59, 6...      0\n",
      "4     1.673431e+09  [66, 4, 65, 65, 65, 65, 66, 65, 4, 4, 4, 4, 4,...      0\n",
      "...            ...                                                ...    ...\n",
      "6708  1.673441e+09  [66, 66, 70, 60, 68, 59, 65, 65, 65, 66, 65, 6...      0\n",
      "6709  1.673441e+09  [4, 65, 4, 4, 4, 4, 4, 4, 3, 4, 4, 4, 4, 4, 4,...      5\n",
      "6710  1.673441e+09  [3, 58, 65, 65, 66, 65, 60, 68, 59, 65, 66, 61...      0\n",
      "6711  1.673441e+09  [4, 4, 3, 4, 4, 4, 59, 4, 4, 4, 4, 4, 4, 4, 4,...      5\n",
      "6712  1.673441e+09  [65, 66, 65, 65, 66, 65, 59, 68, 60, 65, 66, 6...      0\n",
      "\n",
      "[6713 rows x 3 columns]>\n"
     ]
    }
   ],
   "source": [
    "df = pd.read_csv(os.path.join(folder, filename_sequence_1sec))\n",
    "\n",
    "for filename, label_lifecycle in filenames:\n",
    "    df_tmp = pd.read_csv(os.path.join(folder, filename))\n",
    "    t_start = df_tmp['Timestamp'].iloc[0]\n",
    "    t_end = df_tmp['Timestamp'].iloc[-1]\n",
    "    df.loc[(df['Timestamp'] >= t_start) & (df['Timestamp'] <= t_end) & (df['Label'] != 0), 'Label'] = label_lifecycle\n",
    "\n",
    "output_file = os.path.join(folder, 'lifecycle_'+filename_sequence_1sec)\n",
    "df.to_csv(output_file, encoding='utf-8', index=False)\n",
    "print(f'lifecycle labels: {sorted(df[\"Label\"].unique())}')\n",
    "print(df.info)"
   ]
  },
  {
   "attachments": {},
   "cell_type": "markdown",
   "metadata": {},
   "source": [
    "data cleaning"
   ]
  },
  {
   "cell_type": "code",
   "execution_count": 3,
   "metadata": {},
   "outputs": [
    {
     "name": "stdout",
     "output_type": "stream",
     "text": [
      "origin data number: 6713\n",
      "origin features: 2\n",
      "remain data number: 6744\n",
      "remain features: 2\n"
     ]
    }
   ],
   "source": [
    "from sklearn.preprocessing import StandardScaler, RobustScaler, Normalizer, QuantileTransformer, PowerTransformer\n",
    "from sklearn.feature_selection import VarianceThreshold\n",
    "\n",
    "# df = pd.read_csv(os.path.join(folder, filename))\n",
    "df = pd.read_csv(os.path.join(folder, \"fix_\" + filename))\n",
    "# df = pd.read_csv(os.path.join(folder, 'fix.csv'))\n",
    "df = df.loc[:, ['EventTemplate', 'Label', 'Timestamp']]\n",
    "del_list = ['Timestamp']\n",
    "max_threshold = 50000\n",
    "min_threshold = 20\n",
    "\n",
    "print(\"origin data number: {0}\".format(len(df.index)))\n",
    "print(\"origin features: {0}\".format(len(df.columns)-1))\n",
    "\n",
    "\n",
    "# data cleaning\n",
    "# df.drop(columns=del_list, inplace=True)\n",
    "\n",
    "for label in df['Label'].unique():\n",
    "    # # if too much, try drop duplicated first\n",
    "    # if len(df[df['Label'] == label]) > max_threshold:\n",
    "    #     df_tmp = df.loc[df['Label'] == label].copy()\n",
    "    #     df_tmp.drop_duplicates(keep='last', inplace=True)\n",
    "    #     df.drop(df[df['Label'] == label].index, inplace=True)\n",
    "    #     df = pd.concat([df, df_tmp], ignore_index=True)\n",
    "\n",
    "    # if too few, double their number until it's enough\n",
    "    while len(df[df['Label'] == label]) < min_threshold:\n",
    "        tmp_df = df[df['Label'] == label]\n",
    "        df = pd.concat([df, tmp_df], ignore_index=True)\n",
    "\n",
    "\n",
    "# # feature scaling\n",
    "# y_tmp = df['Label']\n",
    "# df.drop(columns=['Label'], inplace=True)\n",
    "# for feature in df.columns.values:\n",
    "#     # scaler = RobustScaler().fit(df[feature].values.reshape(-1, 1))\n",
    "#     scaler = StandardScaler().fit(df[feature].values.reshape(-1, 1))\n",
    "#     # scaler = Normalizer().fit(df[feature].values.reshape(-1, 1))\n",
    "#     # scaler = QuantileTransformer().fit(df[feature].values.reshape(-1, 1))\n",
    "#     # scaler = PowerTransformer().fit(df[feature].values.reshape(-1, 1))\n",
    "#     df[feature] = scaler.transform(df[feature].values.reshape(-1, 1))\n",
    "# df = pd.concat([df, y_tmp], axis=1, ignore_index=True)\n",
    "\n",
    "\n",
    "# # feature selection\n",
    "# # delete features with all the same value\n",
    "# y_tmp = df['Label']\n",
    "# y = df['Label'].values.astype(int)\n",
    "# df.drop('Label', axis=1, inplace=True)\n",
    "# selector = VarianceThreshold(threshold=0)\n",
    "# selector.fit(df)\n",
    "# # print(selector.variances_)\n",
    "# constant_columns = [column for column in df.columns\n",
    "#                     if column not in \n",
    "#                     df.columns[selector.get_support()]]\n",
    "# df.drop(labels=constant_columns, axis=1, inplace=True)\n",
    "\n",
    "# # delete similar features\n",
    "# df_tmp = df\n",
    "# corr_features = set()\n",
    "# corr_matrix = df_tmp.corr()\n",
    "# for i in range(len(corr_matrix.columns)):\n",
    "#     for j in range(i):\n",
    "#         if abs(corr_matrix.iloc[i, j]) > 0.9:\n",
    "#             colname = corr_matrix.columns[i]\n",
    "#             corr_features.add(colname)\n",
    "# df.drop(labels=corr_features, axis=1, inplace=True)\n",
    "\n",
    "# df = pd.concat([df, y_tmp], axis=1, ignore_index=True)\n",
    "\n",
    "\n",
    "# # balancing extremly few class\n",
    "# for class_label in df['Label'].unique():\n",
    "#     while len(df[df['Label'] == class_label]) < 50:\n",
    "#         tmp_df = df[df['Label'] == class_label]\n",
    "#         df = pd.concat([df, tmp_df], ignore_index=True)\n",
    "\n",
    "\n",
    "print(\"remain data number: {0}\".format(len(df.index)))\n",
    "print(\"remain features: {0}\".format(len(df.columns)-1))\n",
    "\n",
    "output_file = os.path.join(folder, \"preprocess_\"+filename)\n",
    "df.to_csv(output_file, encoding='utf-8', index=False)"
   ]
  },
  {
   "attachments": {},
   "cell_type": "markdown",
   "metadata": {},
   "source": [
    "analysis: data number"
   ]
  },
  {
   "cell_type": "code",
   "execution_count": 12,
   "metadata": {},
   "outputs": [
    {
     "name": "stdout",
     "output_type": "stream",
     "text": [
      "\n",
      "Data number:\n",
      "class0: 2572\n",
      "class1: 91\n",
      "class2: 917\n",
      "class3: 1031\n",
      "class4: 1047\n",
      "class5: 1055\n",
      "normal data: 2572\n",
      "malicious data: 4141\n",
      "Index(['Timestamp', 'EventTemplate', 'Label'], dtype='object')\n"
     ]
    },
    {
     "data": {
      "image/png": "[encoded data removed]",
      "text/plain": [
       "<Figure size 640x480 with 1 Axes>"
      ]
     },
     "metadata": {},
     "output_type": "display_data"
    }
   ],
   "source": [
    "def bar_class_num(technique_data_size):\n",
    "    class_num = np.arange(len(technique_data_size))\n",
    "    # data_nums = plt.bar(class_num, technique_data_size, 0.2)\n",
    "    data_nums = plt.bar(class_num, technique_data_size)\n",
    "    for item in data_nums:\n",
    "        height = item.get_height()\n",
    "        plt.text(\n",
    "            item.get_x()+item.get_width()/2., \n",
    "            height, \n",
    "            '%d' % int(height),\n",
    "            ha = \"center\",\n",
    "            va = \"bottom\",\n",
    "            fontsize = 9,\n",
    "        )\n",
    "    labels.pop(0)\n",
    "    plt.xticks(class_num, labels)\n",
    "    plt.xlabel(\"Class\")\n",
    "    plt.ylabel(\"Number\")\n",
    "    plt.title(\"Preprocessed System Logs Data\")\n",
    "    # plt.title(\"Raw System Log Data\")\n",
    "    plt.tight_layout()\n",
    "    plt.savefig(\"log.png\", dpi=400)\n",
    "    plt.show()\n",
    "\n",
    "# df = pd.read_csv(os.path.join(folder, filename))\n",
    "# df = pd.read_csv(os.path.join(folder, \"preprocess_\"+filename))\n",
    "# df = pd.read_csv(os.path.join(folder, 'fix.csv'))\n",
    "df = pd.read_csv(os.path.join(folder, 'lifecycle_'+filename_sequence_1sec))\n",
    "\n",
    "technique_data_size = []\n",
    "labels = sorted([int(i) for i in df['Label'].unique()])\n",
    "\n",
    "print(\"\\nData number:\")\n",
    "for i in labels:\n",
    "    num = len(df[df['Label'] == i])\n",
    "    if i != 0:\n",
    "        technique_data_size.append(num)\n",
    "    print(\"class{0}: {1}\".format(i, num))\n",
    "\n",
    "\n",
    "print(\"normal data: {}\".format(len(df[df['Label'] == 0])))\n",
    "print(\"malicious data: {}\".format(len(df) - len(df[df['Label'] == 0])))\n",
    "print(df.columns)\n",
    "\n",
    "bar_class_num(technique_data_size)"
   ]
  },
  {
   "attachments": {},
   "cell_type": "markdown",
   "metadata": {},
   "source": [
    "analysis: EventTemplate"
   ]
  },
  {
   "cell_type": "code",
   "execution_count": 28,
   "metadata": {},
   "outputs": [
    {
     "name": "stdout",
     "output_type": "stream",
     "text": [
      "Template types number: 91\n",
      "Template with multiple labels: 27\n",
      "\n",
      "\n",
      "localhost (<*>[<*>]) - USER <*> Login successful.\n",
      "\"GET <*> <*> 200 <*> \"-\" <*>\n",
      "\"GET /chat/read_log.php HTTP/1.1\" 404 <*> \"about:blank\" \"Node.js (linux; U; rv:v4.9.1) AppleWebKit/537.36 (KHTML, like Gecko)\"\n",
      "disconnect from unknown[<*>]\n",
      "lost connection after <*> from unknown[<*>]\n",
      "connect from unknown[<*>]\n",
      "localhost (<*>[<*>]) - FTP session <*>\n",
      "\"POST /chat/post.php HTTP/1.1\" 404 <*> \"about:blank\" \"Node.js (linux; U; rv:v4.9.1) AppleWebKit/537.36 (KHTML, like Gecko)\"\n",
      "Connection closed by <*> [preauth]\n",
      "connect from <*> (<*>)\n",
      "doit: getaddrinfo: Name or service not known\n",
      "pam_nologin(login:auth): cannot determine username\n",
      "statistics: max cache size <*> at Jan 11 <*>\n",
      "statistics: max connection <*> <*> for <*> at Jan 11 <*>\n",
      "pam_unix(cron:session): session opened for user root by (uid=0)\n",
      "(root) CMD ( [ -x /usr/lib/php5/maxlifetime ] && [ -x /usr/lib/php5/sessionclean ] && [ -d /var/lib/php5 ] && /usr/lib/php5/sessionclean /var/lib/php5 $(/usr/lib/php5/maxlifetime))\n",
      "pam_unix(cron:session): session closed for user root\n",
      "action 'action-11-builtin:omfwd' resumed (module 'builtin:omfwd') <*> try https://www.rsyslog.com/e/2359 ]\n",
      "pam_unix(sshd:auth): authentication failure; logname= uid=0 euid=0 tty=ssh ruser= rhost=<*> user=root\n",
      "Failed password for root from <*> port <*> ssh2\n",
      "pam_unix(sshd:session): session opened for user root by (uid=0)\n",
      "Accepted password for root from <*> port <*> ssh2\n",
      "pam_unix(login:auth): authentication failure; logname= uid=0 euid=0 <*> ruser= rhost=<*>\n",
      "pam_unix(login:auth): check pass; user unknown\n",
      "FAILED LOGIN <*> on <*> from '<*>' FOR 'UNKNOWN', Authentication failure\n",
      "[ <*> e1000 00<*>.0 eth0: Reset adapter\n",
      "[ <*> e1000: eth0 NIC Link is Up 1000 Mbps Full Duplex, Flow Control: RX\n"
     ]
    }
   ],
   "source": [
    "# df = pd.read_csv(os.path.join(folder, 'test_binary.csv'))\n",
    "# df = pd.read_csv(os.path.join(folder, 'old', 'label_syslog_structured.csv'))\n",
    "# df = pd.read_csv(os.path.join(folder, \"preprocess_\"+filename))\n",
    "df = pd.read_csv(os.path.join(folder, 'fix.csv'))\n",
    "df_tmp = df.loc[:, ['Label']]\n",
    "df = df.loc[:, ['EventTemplate', 'Label', 'Timestamp']]\n",
    "\n",
    "templates = df['EventTemplate'].unique()\n",
    "conflict = 0\n",
    "conflict_names = []\n",
    "\n",
    "for template in templates:\n",
    "    df_tmp = df[df['EventTemplate'] == template]\n",
    "    if len(df_tmp['Label'].unique()) > 1:\n",
    "        conflict += 1\n",
    "        conflict_names.append(template)\n",
    "\n",
    "print('Template types number: {}'.format(len(templates)))\n",
    "print('Template with multiple labels: {}\\n\\n'.format(conflict))\n",
    "for name in conflict_names:\n",
    "    print(name)"
   ]
  },
  {
   "attachments": {},
   "cell_type": "markdown",
   "metadata": {},
   "source": [
    "(test) convert label to binary"
   ]
  },
  {
   "cell_type": "code",
   "execution_count": 3,
   "metadata": {},
   "outputs": [
    {
     "name": "stdout",
     "output_type": "stream",
     "text": [
      "                                           EventTemplate     Timestamp  Label\n",
      "0      localhost (<*>[<*>]) - USER <*> Login successful.  1.673431e+09      1\n",
      "1                 localhost (<*>[<*>]) - FTP session <*>  1.673431e+09      1\n",
      "2      localhost (<*>[<*>]) - USER <*> Login successful.  1.673431e+09      1\n",
      "3                 localhost (<*>[<*>]) - FTP session <*>  1.673431e+09      1\n",
      "4                 localhost (<*>[<*>]) - FTP session <*>  1.673431e+09      1\n",
      "...                                                  ...           ...    ...\n",
      "85271             localhost (<*>[<*>]) - FTP session <*>  1.673431e+09      1\n",
      "85272             localhost (<*>[<*>]) - FTP session <*>  1.673431e+09      1\n",
      "85273             localhost (<*>[<*>]) - FTP session <*>  1.673431e+09      1\n",
      "85274  localhost (<*>[<*>]) - USER <*> Login successful.  1.673431e+09      1\n",
      "85275  localhost (<*>[<*>]) - USER <*> Login successful.  1.673431e+09      1\n",
      "\n",
      "[85276 rows x 3 columns]\n"
     ]
    }
   ],
   "source": [
    "df = pd.read_csv(os.path.join(folder, \"preprocess_\"+filename))\n",
    "df_tmp = df.loc[:, ['Label']]\n",
    "df.drop(columns=['Label'], inplace=True)\n",
    "change_list = df_tmp['Label'].unique().tolist()\n",
    "change_list.remove(0)\n",
    "df_tmp['Label'] = np.where(df_tmp['Label'].isin(change_list), 1, df_tmp['Label'])\n",
    "df = pd.concat([df, df_tmp], axis=1, ignore_index=True)\n",
    "print(df)\n",
    "df.to_csv(os.path.join(folder, 'test_binary.csv'), encoding='utf-8', index=False)"
   ]
  }
 ],
 "metadata": {
  "kernelspec": {
   "display_name": "lab",
   "language": "python",
   "name": "python3"
  },
  "language_info": {
   "codemirror_mode": {
    "name": "ipython",
    "version": 3
   },
   "file_extension": ".py",
   "mimetype": "text/x-python",
   "name": "python",
   "nbconvert_exporter": "python",
   "pygments_lexer": "ipython3",
   "version": "3.8.15"
  },
  "orig_nbformat": 4,
  "vscode": {
   "interpreter": {
    "hash": "acbeb801ef841938b72c15cd1756d069d76df8d13059b274a4de3d770d945625"
   }
  }
 },
 "nbformat": 4,
 "nbformat_minor": 2
}
