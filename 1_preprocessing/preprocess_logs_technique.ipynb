{
 "cells": [
  {
   "cell_type": "code",
   "execution_count": 2,
   "metadata": {},
   "outputs": [],
   "source": [
    "\n",
    "import os\n",
    "import pandas as pd\n",
    "from matplotlib import pyplot as plt\n",
    "import numpy as np\n",
    "import json\n",
    "from tqdm import tqdm\n",
    "\n",
    "folder = os.path.join(\"..\", \"0_dataset\", \"syslog\")\n",
    "filename = 'original_label_syslog.csv'\n",
    "filename_label = 'preprocess_label_syslog.csv'\n",
    "label_table_path = 'labels_table.json'"
   ]
  },
  {
   "cell_type": "markdown",
   "metadata": {},
   "source": [
    "1. Preprocessing (count event per second)  \n",
    "Data collecting tool: **Rsyslog**  \n",
    "Features extraction tool: **Drain**"
   ]
  },
  {
   "cell_type": "code",
   "execution_count": 7,
   "metadata": {},
   "outputs": [
    {
     "name": "stdout",
     "output_type": "stream",
     "text": [
      "label uniques: [ 1  0  2  3  5  9 11 12 13  4  6  8 14  7 15 10 17]\n",
      "number of timestamp: 35457\n"
     ]
    },
    {
     "name": "stderr",
     "output_type": "stream",
     "text": [
      "100%|██████████| 15939/15939 [03:24<00:00, 77.97it/s]\n",
      "100%|██████████| 35456/35456 [10:22<00:00, 56.96it/s]\n",
      "100%|██████████| 42/42 [00:01<00:00, 40.05it/s]\n",
      "100%|██████████| 25/25 [00:00<00:00, 45.56it/s]\n",
      "100%|██████████| 35/35 [00:00<00:00, 40.82it/s]\n",
      "100%|██████████| 7196/7196 [02:39<00:00, 45.01it/s]\n"
     ]
    }
   ],
   "source": [
    "col_list = ['HostName', 'EventTemplate', 'Timestamp', 'Label']\n",
    "one_hot_col_list = ['EventTemplate']\n",
    "# del_col_list = ['HostName', 'Timestamp']\n",
    "del_col_list = ['HostName']\n",
    "df = pd.read_csv(os.path.join(folder, filename), usecols=col_list)\n",
    "labels = df['Label'].unique()\n",
    "\n",
    "print('label uniques: {0}'.format(labels))\n",
    "print('number of timestamp: {0}'.format(len(df['Timestamp'].unique())))\n",
    "\n",
    "df = pd.get_dummies(df, columns=one_hot_col_list)\n",
    "\n",
    "hostnames = df['HostName'].unique()\n",
    "\n",
    "df_count_vector = pd.DataFrame()\n",
    "\n",
    "df_machines = []\n",
    "unique_timestamps_machines = []\n",
    "for hostname in hostnames:\n",
    "    df_machines.append(df[df['HostName'] == hostname])\n",
    "\n",
    "for df_machine in df_machines:\n",
    "    unique_timestamps = list(set(df_machine['Timestamp']))\n",
    "    unique_timestamps_machines.append(unique_timestamps)\n",
    "\n",
    "# record templates by each second and machine\n",
    "for i in range(len(df_machines)):\n",
    "    df_machine = df_machines[i]\n",
    "    tmp_unique_timestamps = unique_timestamps_machines[i]\n",
    "    for tmp_timestamp in tqdm(tmp_unique_timestamps):\n",
    "        tmp_df = df_machine[df_machine['Timestamp'] == tmp_timestamp]\n",
    "        tmp_df = tmp_df.drop(columns=del_col_list)\n",
    "        classes_num = {}\n",
    "        for j in labels:\n",
    "            class_num = len(tmp_df[tmp_df['Label'] == j])\n",
    "            if j != 0 and class_num > 0:\n",
    "                classes_num[j] = class_num\n",
    "        sum_one_hot = tmp_df.sum()\n",
    "        \n",
    "        # label according to most frequent technique\n",
    "        max_num = 0\n",
    "        max_label = 0\n",
    "        for key in classes_num:\n",
    "            if classes_num[key] > max_num:\n",
    "                max_num = classes_num[key]\n",
    "                max_label = key\n",
    "        sum_one_hot['Label'] = max_label\n",
    "        sum_one_hot['Timestamp'] = tmp_timestamp\n",
    "        \n",
    "        df_count_vector = df_count_vector.append(sum_one_hot.transpose(), ignore_index=True)\n",
    "\n",
    "output_file = os.path.join(folder, filename_label)\n",
    "df_count_vector.to_csv(output_file, encoding='utf-8', index=False)"
   ]
  },
  {
   "cell_type": "markdown",
   "metadata": {},
   "source": [
    "2. Visualization (data number)"
   ]
  },
  {
   "cell_type": "code",
   "execution_count": 23,
   "metadata": {},
   "outputs": [
    {
     "name": "stdout",
     "output_type": "stream",
     "text": [
      "\n",
      "Data number:\n",
      "class0: 41946\n",
      "class1: 367\n",
      "class2: 623\n",
      "class3: 261\n",
      "class4: 144\n",
      "class5: 409\n",
      "class6: 219\n",
      "class7: 1880\n",
      "class8: 1878\n",
      "class9: 5\n",
      "class10: 2\n",
      "class11: 749\n",
      "class12: 2506\n",
      "class13: 749\n",
      "class14: 1028\n",
      "class15: 1033\n",
      "class17: 3846\n"
     ]
    },
    {
     "data": {
      "image/png": "[encoded data removed]",
      "text/plain": [
       "<Figure size 432x288 with 1 Axes>"
      ]
     },
     "metadata": {
      "needs_background": "light"
     },
     "output_type": "display_data"
    }
   ],
   "source": [
    "def bar_class_num(technique_data_size):\n",
    "    class_num = np.arange(len(technique_data_size))\n",
    "    # data_nums = plt.bar(class_num, technique_data_size, 0.2)\n",
    "    data_nums = plt.bar(class_num, technique_data_size)\n",
    "    for item in data_nums:\n",
    "        height = item.get_height()\n",
    "        plt.text(\n",
    "            item.get_x()+item.get_width()/2., \n",
    "            height, \n",
    "            '%d' % int(height),\n",
    "            ha = \"center\",\n",
    "            va = \"bottom\",\n",
    "        )\n",
    "    labels.pop(0)\n",
    "    plt.xticks(class_num, labels)\n",
    "    plt.xlabel(\"Class\")\n",
    "    plt.ylabel(\"Number\")\n",
    "    plt.title(\"Preprocessed System Log Data\")\n",
    "    plt.tight_layout()\n",
    "    plt.savefig(\"log.png\", dpi=400)\n",
    "    plt.show()\n",
    "\n",
    "technique_data_size = []\n",
    "df = pd.read_csv(os.path.join(folder, \"select_\"+filename_label))\n",
    "labels = df['Label'].unique()\n",
    "labels = [int(i) for i in labels]\n",
    "labels.sort()\n",
    "with open(\"labels_table.json\", \"r\") as f:\n",
    "    label_table = json.load(f)\n",
    "\n",
    "for i in labels:\n",
    "    if i != 0:\n",
    "        class_data_size = len(df[df['Label'] == i])\n",
    "        technique_data_size.append(class_data_size)\n",
    "\n",
    "print(\"\\nData number:\")\n",
    "for i in labels:\n",
    "    print(\"class{0}: {1}\".format(i, len(df[df['Label'] == i])))\n",
    "\n",
    "bar_class_num(technique_data_size)"
   ]
  },
  {
   "cell_type": "markdown",
   "metadata": {},
   "source": [
    "3. Feature selection\n",
    "    * remove duplicated\n",
    "    * remove similar features"
   ]
  },
  {
   "cell_type": "code",
   "execution_count": 28,
   "metadata": {},
   "outputs": [
    {
     "name": "stdout",
     "output_type": "stream",
     "text": [
      "origin data number: 58693\n",
      "origin features: 110\n",
      "remain data number: 57645\n",
      "remain features: 63\n"
     ]
    }
   ],
   "source": [
    "df = pd.read_csv(os.path.join(folder, filename_label))\n",
    "del_list = ['Timestamp']\n",
    "\n",
    "print(\"origin data number: {0}\".format(len(df.index)))\n",
    "print(\"origin features: {0}\".format(len(df.columns)-1))\n",
    "\n",
    "\n",
    "# drop duplicated\n",
    "df.drop_duplicates(keep=False, inplace=True)\n",
    "df.drop(columns=del_list, inplace=True)\n",
    "\n",
    "\n",
    "# drop similar\n",
    "df_tmp1 = df.drop(columns=['Label'])\n",
    "corr_features = set()\n",
    "corr_matrix = df_tmp1.corr()\n",
    "\n",
    "for i in range(len(corr_matrix.columns)):\n",
    "    for j in range(i):\n",
    "        if abs(corr_matrix.iloc[i, j]) > 0.9:\n",
    "            colname = corr_matrix.columns[i]\n",
    "            corr_features.add(colname)\n",
    "\n",
    "df.drop(labels=corr_features, axis=1, inplace=True)\n",
    "# df.drop_duplicates(keep=False, inplace=True)\n",
    "\n",
    "# # drop duplicate for normal data\n",
    "# df_tmp2 = df.loc[df['Label'] == 0].copy()\n",
    "# df_tmp2.drop_duplicates(keep=False, inplace=True)\n",
    "# df.drop(df[df['Label'] == 0].index, inplace=True)\n",
    "# df = pd.concat([df, df_tmp2])\n",
    "\n",
    "print(\"remain data number: {0}\".format(len(df.index)))\n",
    "print(\"remain features: {0}\".format(len(df.columns)-1))\n",
    "\n",
    "output_file = os.path.join(folder, \"select_\"+filename_label)\n",
    "df.to_csv(output_file, encoding='utf-8', index=False)"
   ]
  }
 ],
 "metadata": {
  "kernelspec": {
   "display_name": "Python 3.8.15 ('lab')",
   "language": "python",
   "name": "python3"
  },
  "language_info": {
   "codemirror_mode": {
    "name": "ipython",
    "version": 3
   },
   "file_extension": ".py",
   "mimetype": "text/x-python",
   "name": "python",
   "nbconvert_exporter": "python",
   "pygments_lexer": "ipython3",
   "version": "3.8.15"
  },
  "orig_nbformat": 4,
  "vscode": {
   "interpreter": {
    "hash": "acbeb801ef841938b72c15cd1756d069d76df8d13059b274a4de3d770d945625"
   }
  }
 },
 "nbformat": 4,
 "nbformat_minor": 2
}
