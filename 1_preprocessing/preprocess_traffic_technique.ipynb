{
 "cells": [
  {
   "cell_type": "markdown",
   "metadata": {},
   "source": [
    "Informations\n",
    "* Data collecting tool: **Tcpdump**  \n",
    "* Features extraction tool: **Argus**"
   ]
  },
  {
   "cell_type": "code",
   "execution_count": 1,
   "metadata": {},
   "outputs": [],
   "source": [
    "import os\n",
    "import pandas as pd\n",
    "import random\n",
    "import numpy as np\n",
    "import json\n",
    "from matplotlib import pyplot as plt\n",
    "from imblearn.over_sampling import SMOTE\n",
    "from sklearn.tree import DecisionTreeClassifier\n",
    "from sklearn.tree import ExtraTreeClassifier\n",
    "from sklearn.ensemble import RandomForestClassifier\n",
    "from xgboost import XGBClassifier"
   ]
  },
  {
   "cell_type": "markdown",
   "metadata": {},
   "source": [
    "1. Preprocessing"
   ]
  },
  {
   "cell_type": "code",
   "execution_count": 2,
   "metadata": {},
   "outputs": [
    {
     "name": "stdout",
     "output_type": "stream",
     "text": [
      "\n",
      "\n",
      "-------------------------------------\n",
      "file name:label_traffic_mirai.csv\n",
      "-------------------------------------\n",
      "MIRAI Direct Network Flood data delete: 2750680\n",
      "label uniques: [0 1]\n",
      "\n",
      "\n",
      "-------------------------------------\n",
      "file name:label_traffic_disk_wipe.csv\n",
      "-------------------------------------\n",
      "label uniques: [0 1]\n",
      "\n",
      "\n",
      "-------------------------------------\n",
      "file name:label_traffic_ransomware.csv\n",
      "-------------------------------------\n",
      "label uniques: [0 1]\n",
      "\n",
      "\n",
      "-------------------------------------\n",
      "file name:label_traffic_resource_hijacking.csv\n",
      "-------------------------------------\n",
      "label uniques: [0 1]\n",
      "\n",
      "\n",
      "-------------------------------------\n",
      "file name:label_traffic_end_point_dos.csv\n",
      "-------------------------------------\n",
      "label uniques: [0 1]\n"
     ]
    }
   ],
   "source": [
    "folder = os.path.join(\"..\", \"0_dataset\", \"traffic\")\n",
    "filenames = ['label_traffic_mirai.csv', 'label_traffic_disk_wipe.csv', 'label_traffic_ransomware.csv',\n",
    "                   'label_traffic_resource_hijacking.csv', 'label_traffic_end_point_dos.csv']\n",
    "\n",
    "one_hot_col_list = ['Flgs', 'Proto', 'State']\n",
    "fields_with_hex_value = ['Sport', 'Dport']\n",
    "# removed_fields = ['Rank', 'StartTime', 'SrcAddr', 'DstAddr', 'LastTime', 'Tactic', 'Technique', 'SubTechnique']\n",
    "removed_fields = ['Rank', 'SrcAddr', 'DstAddr', 'Tactic', 'Technique', 'SubTechnique']\n",
    "replace_strings = dict()\n",
    "remove_rows_with_str = dict()\n",
    "technique_data_size = [0]\n",
    "\n",
    "df = pd.DataFrame()\n",
    "for tmp_filename in filenames:\n",
    "    print(\"\\n\")\n",
    "    print(\"-------------------------------------\")\n",
    "    print(\"file name:{0}\".format(tmp_filename))\n",
    "    print(\"-------------------------------------\")\n",
    "    filename = os.path.join(folder, tmp_filename)\n",
    "    tmp_df = pd.read_csv(filename, low_memory=False)\n",
    "    tmp_df = tmp_df.drop(tmp_df[tmp_df['Label'] == -1].index)\n",
    "\n",
    "    # delete redundant data\n",
    "    if tmp_filename == 'label_traffic_mirai.csv':\n",
    "        drop_indexes = tmp_df[tmp_df['SubTechnique'] == 'Direct Network Flood'].index\n",
    "        print('MIRAI Direct Network Flood data delete: {0}'.format(len(drop_indexes)))\n",
    "        number_drop = len(drop_indexes) - 30000\n",
    "        drop_indexes = random.sample(list(drop_indexes), number_drop)\n",
    "        tmp_df = tmp_df.drop(drop_indexes)\n",
    "\n",
    "    # simple analysis\n",
    "    labels = tmp_df['Label'].unique()\n",
    "    print('label uniques: {0}'.format(labels))\n",
    "    for j in labels:\n",
    "        class_data_size = len(tmp_df[tmp_df['Label'] == j])\n",
    "        # print('number of class-{0}: {1}'.format(j, class_data_size))\n",
    "        if j == 0:\n",
    "            technique_data_size[0] += class_data_size\n",
    "        else:\n",
    "            technique_data_size.append(class_data_size)\n",
    "    # print(\"feature numbers: {0}\".format(len(column_names)))\n",
    "    # print(tmp_df.dtypes)\n",
    "    # print(tmp_df.isnull().any())\n",
    "    df = df.append(tmp_df)\n",
    "\n",
    "# delete useless features\n",
    "for field in removed_fields:\n",
    "    del df[field]\n",
    "\n",
    "# one-hot-encoding\n",
    "df = pd.get_dummies(df, columns=one_hot_col_list)\n",
    "\n",
    "# string replacement\n",
    "for old_value, new_value in replace_strings.items():\n",
    "    df = df.replace(to_replace=old_value, value=new_value, regex=True)\n",
    "for old_value, new_value in remove_rows_with_str.items():\n",
    "    df = df.replace(to_replace=old_value, value=new_value)\n",
    "\n",
    "# preprocess hex value, str -> int\n",
    "for field in fields_with_hex_value:\n",
    "    df[field] = df[field].fillna(-1)\n",
    "    df[field] = df[field].apply(lambda x: x if type(x) is str else int(x))\n",
    "    df[field] = df[field].apply(lambda x: int(x, 0) if type(x) is str and x[:2] == \"0x\" else x)\n",
    "    # df[field] = df[field].apply(lambda x: int(str(x), 0))\n",
    "    df[field] = df[field].apply(lambda x: int(float(str(x))))\n",
    "\n",
    "# column name cleaning\n",
    "column_names = df.columns.values\n",
    "for i in range(len(column_names)):\n",
    "    column_names[i] = column_names[i].strip()\n",
    "df.columns = column_names\n",
    "\n",
    "output_filename = os.path.join(folder, 'preprocess_label_traffic.csv')\n",
    "df.to_csv(output_filename, encoding='utf-8', index=False)"
   ]
  },
  {
   "cell_type": "markdown",
   "metadata": {},
   "source": [
    "2. Visualization (class number)"
   ]
  },
  {
   "cell_type": "code",
   "execution_count": 13,
   "metadata": {},
   "outputs": [
    {
     "data": {
      "image/png": "[encoded data removed]",
      "text/plain": [
       "<Figure size 432x288 with 1 Axes>"
      ]
     },
     "metadata": {
      "needs_background": "light"
     },
     "output_type": "display_data"
    },
    {
     "name": "stdout",
     "output_type": "stream",
     "text": [
      "number of class-0: 145884\n",
      "number of class-1: 31198\n",
      "number of class-2: 34\n",
      "number of class-3: 17\n",
      "number of class-4: 17\n",
      "number of class-5: 12\n"
     ]
    }
   ],
   "source": [
    "def bar_class_num(technique_data_size):\n",
    "    labels = [i for i in range(len(technique_data_size))]\n",
    "    class_num = np.arange(len(technique_data_size))\n",
    "    plt.bar(class_num, technique_data_size)\n",
    "    plt.xticks(class_num, labels)\n",
    "    plt.xlabel(\"attack type\")\n",
    "    plt.ylabel(\"Number of data\")\n",
    "    plt.title(\"Number of each class\")\n",
    "    plt.show()\n",
    "\n",
    "bar_class_num(technique_data_size)\n",
    "for i in range(len(technique_data_size)):\n",
    "    print('number of class-{0}: {1}'.format(i, technique_data_size[i]))"
   ]
  },
  {
   "cell_type": "markdown",
   "metadata": {},
   "source": [
    "3. Data evaluation"
   ]
  },
  {
   "cell_type": "code",
   "execution_count": null,
   "metadata": {},
   "outputs": [],
   "source": [
    "def loadDataset2RankFeature(folder, filename, hash_fields=['proto', 'service', 'state'], \\\n",
    "                            removed_fields=['id', 'attack_cat'], replace_strings=dict(),\n",
    "                            remove_rows_with_str=[], label_field='label',\n",
    "                            tactic_field='Tactic', technique_field='Technique', sub_technique_field='SubTechnique'):\n",
    "    # load data, will be removed in deployment\n",
    "    #hash_fields = ['proto', 'service', 'state']\n",
    "    #removed_fields = ['id', 'attack_cat']\n",
    "    \n",
    "    df = loadDataset(folder, filename, hash_fields, removed_fields, replace_strings=replace_strings,\n",
    "                     remove_rows_with_str=remove_rows_with_str)\n",
    "    # using label field to calculate feature importance\n",
    "    #del df[tactic_field]\n",
    "    #del df[technique_field]\n",
    "    #del df[sub_technique_field]\n",
    "\n",
    "    X = df.loc[:, df.columns != label_field]\n",
    "    y = df.loc[:, df.columns == label_field]\n",
    "    features_train = X.columns.values\n",
    "    X = X.values\n",
    "    y = y.values\n",
    "\n",
    "    return X, y, features_train\n",
    "\n",
    "def rankFeatures(folder=r'Logs/test', filename='UNSW_NB15_training-set.csv', hash_fields=['proto', 'service', 'state'], \n",
    "            removed_fields = ['id', 'attack_cat'], replace_strings=dict(), remove_rows_with_str=[],\n",
    "                 label_field='label', tactic_field='Tactic', technique_field='Technique',\n",
    "                 sub_technique_field='SubTechnique', threshold=0.01, data_source=''):\n",
    "    X, y, features_train = loadDataset2RankFeature(folder, filename, hash_fields, removed_fields,\n",
    "                                                   replace_strings, remove_rows_with_str, label_field,\n",
    "                                                   tactic_field, technique_field, sub_technique_field)\n",
    "\n",
    "    models = {}\n",
    "    # models = []\n",
    "    #models.append(['Decision Tree Classifier', DecisionTreeClassifier()])\n",
    "    #models.append(['Random Forest Classifier', RandomForestClassifier()])\n",
    "\n",
    "    # linear models\n",
    "    #models.append(['logistic', LogisticRegression()])\n",
    "    # non-linear models\n",
    "    models.append(['decision_tree', DecisionTreeClassifier()])\n",
    "    models.append(['extra_tree', ExtraTreeClassifier()])\n",
    "    #models.append(['naive_bayes', GaussianNB()])\n",
    "    # ensemble models\n",
    "    models.append(['random_forest', RandomForestClassifier()])\n",
    "    models.append(['XGBoost', XGBClassifier()])\n",
    "\n",
    "    importance_list = []\n",
    "\n",
    "    for element in models:\n",
    "        model_name = element[0]\n",
    "        model = element[1]\n",
    "        # fit the model\n",
    "        model.fit(X, y)\n",
    "        # get importance\n",
    "        importance = model.feature_importances_\n",
    "        importance_list.append(importance)\n",
    "    \n",
    "    importance_list = np.transpose(importance_list)\n",
    "    avg_importance = []\n",
    "    for i in range(len(importance_list)):\n",
    "        avg_importance.append(sum(importance_list[i]) / len(importance_list[i]))\n",
    "    original_rank = {}\n",
    "    for i in range(len(avg_importance)):\n",
    "        original_rank[features_train[i]] = avg_importance[i]\n",
    "    sort_original_rank = {k: v for k, v in sorted(original_rank.items(), key=lambda item: item[1])}\n",
    "    print(sort_original_rank)\n",
    "    # plot feature importance\n",
    "    plt.bar(*zip(*sort_original_rank.items()))\n",
    "    with open(r'Logs/Fig/mydataset/{0}_rank_feature_all.txt'.format(data_source), \"w+\") as fw:\n",
    "        json.dump(sort_original_rank, fw)\n",
    "    #pyplot.show()\n",
    "\n",
    "    keep_features = {}\n",
    "    drop_feature = {}\n",
    "    for i in range(len(avg_importance)):\n",
    "        if avg_importance[i] >= threshold:\n",
    "            keep_features[features_train[i]] = avg_importance[i]\n",
    "        else:\n",
    "            drop_feature[features_train[i]] = avg_importance[i]\n",
    "    sort_keep_features = {k: v for k, v in sorted(keep_features.items(), key=lambda item: item[1])}\n",
    "    sort_drop_feature = {k: v for k, v in sorted(drop_feature.items(), key=lambda item: item[1])}\n",
    "    \n",
    "    print(\"keep features.........\")\n",
    "    print(sort_keep_features)\n",
    "    print(\"drop features.........\")\n",
    "    print(sort_drop_feature)\n",
    "    # plot feature importance\n",
    "    plt.bar(*zip(*sort_keep_features.items()))\n",
    "    with open(r'Logs/Fig/mydataset/{0}_rank_feature_keep.txt'.format(data_source), \"w+\") as fw:\n",
    "        json.dump(sort_keep_features, fw)\n",
    "    #pyplot.show()\n",
    "    plt.bar(*zip(*sort_drop_feature.items()))\n",
    "    with open(r'Logs/Fig/mydataset/{0}_rank_feature_drop.txt'.format(data_source), \"w+\") as fw:\n",
    "        json.dump(sort_drop_feature, fw)\n",
    "    #pyplot.show()\n",
    "\n",
    "    feature_sumary = {}\n",
    "    feature_sumary['num of total features'] = len(sort_original_rank)\n",
    "    feature_sumary['num of keeping features'] = len(sort_keep_features)\n",
    "    feature_sumary['num of drop features'] = len(sort_drop_feature)\n",
    "    plt.bar(*zip(*feature_sumary.items()))\n",
    "    with open(r'Logs/Fig/mydataset/{0}_feature_summary.txt'.format(data_source), \"w+\") as fw:\n",
    "        json.dump(feature_sumary, fw)\n",
    "    #pyplot.show()\n",
    "\n",
    "    return sort_original_rank, sort_keep_features, sort_drop_feature\n"
   ]
  },
  {
   "cell_type": "markdown",
   "metadata": {},
   "source": [
    "4. Data balancing"
   ]
  },
  {
   "cell_type": "code",
   "execution_count": null,
   "metadata": {},
   "outputs": [],
   "source": []
  }
 ],
 "metadata": {
  "kernelspec": {
   "display_name": "Python 3.6.13 ('multistage')",
   "language": "python",
   "name": "python3"
  },
  "language_info": {
   "codemirror_mode": {
    "name": "ipython",
    "version": 3
   },
   "file_extension": ".py",
   "mimetype": "text/x-python",
   "name": "python",
   "nbconvert_exporter": "python",
   "pygments_lexer": "ipython3",
   "version": "3.6.13"
  },
  "orig_nbformat": 4,
  "vscode": {
   "interpreter": {
    "hash": "e316b1ad1bb7084be8c3b1650f7484094eadbbf4b3451c2488d40589d31287db"
   }
  }
 },
 "nbformat": 4,
 "nbformat_minor": 2
}
