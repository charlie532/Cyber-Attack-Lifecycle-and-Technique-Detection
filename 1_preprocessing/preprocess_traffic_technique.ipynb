{
 "cells": [
  {
   "cell_type": "markdown",
   "metadata": {},
   "source": [
    "Informations\n",
    "* Data collecting tool: **Tcpdump**  \n",
    "* Features extraction tool: **Argus**"
   ]
  },
  {
   "cell_type": "code",
   "execution_count": 3,
   "metadata": {},
   "outputs": [],
   "source": [
    "import os\n",
    "import pandas as pd\n",
    "import numpy as np\n",
    "import json\n",
    "from matplotlib import pyplot as plt\n",
    "\n",
    "folder = os.path.join(\"..\", \"0_dataset\", \"traffic\")\n",
    "filenames = ['label_traffic_mirai.csv', 'label_traffic_disk_wipe.csv', 'label_traffic_ransomware.csv',\n",
    "                   'label_traffic_resource_hijacking.csv', 'label_traffic_end_point_dos.csv']\n",
    "filename_label = 'preprocess_label_traffic.csv'\n",
    "label_table_path = 'labels_table.json'"
   ]
  },
  {
   "cell_type": "markdown",
   "metadata": {},
   "source": [
    "1. Preprocessing"
   ]
  },
  {
   "cell_type": "code",
   "execution_count": 3,
   "metadata": {},
   "outputs": [
    {
     "name": "stdout",
     "output_type": "stream",
     "text": [
      "-------------------------------------\n",
      "\n",
      "scenario: mirai\n",
      "labels: [ 0  1  2 13]\n",
      "\n",
      "-------------------------------------\n",
      "\n",
      "scenario: disk_wipe\n",
      "labels: [ 0  1  2  4  6  8 14]\n",
      "\n",
      "-------------------------------------\n",
      "\n",
      "scenario: ransomware\n",
      "labels: [ 0  1  4  6  7 12 15]\n",
      "\n",
      "-------------------------------------\n",
      "\n",
      "scenario: resource_hijacking\n",
      "labels: [ 0  1  2  6  8 16]\n",
      "\n",
      "-------------------------------------\n",
      "\n",
      "scenario: end_point_dos\n",
      "labels: [ 0 17]\n",
      "\n"
     ]
    }
   ],
   "source": [
    "scenarios = ['mirai', 'disk_wipe', 'ransomware', 'resource_hijacking', 'end_point_dos']\n",
    "\n",
    "one_hot_col_list = ['Flgs', 'Proto', 'State']\n",
    "fields_with_hex_value = ['Sport', 'Dport']\n",
    "# removed_fields = ['Rank', 'StartTime', 'SrcAddr', 'DstAddr', 'LastTime', 'Tactic', 'Technique', 'SubTechnique']\n",
    "removed_fields = ['Rank', 'SrcAddr', 'DstAddr', 'Tactic', 'Technique', 'SubTechnique']\n",
    "replace_strings = dict()\n",
    "remove_rows_with_str = dict()\n",
    "\n",
    "df = pd.DataFrame()\n",
    "for idx, tmp_filename in enumerate(filenames):\n",
    "    print(\"-------------------------------------\\n\")\n",
    "    print(\"scenario: {0}\".format(scenarios[idx]))\n",
    "    filename = os.path.join(folder, tmp_filename)\n",
    "    tmp_df = pd.read_csv(filename, low_memory=False)\n",
    "    tmp_df.drop(tmp_df[tmp_df['Label'] == -1].index, inplace=True)\n",
    "\n",
    "    # # delete redundant data\n",
    "    # if tmp_filename == 'label_traffic_mirai.csv':\n",
    "    #     drop_indexes = tmp_df[tmp_df['SubTechnique'] == 'Direct Network Flood'].index\n",
    "    #     print('MIRAI Direct Network Flood data delete: {0}'.format(len(drop_indexes)))\n",
    "    #     number_drop = len(drop_indexes) - 30000\n",
    "    #     drop_indexes = random.sample(list(drop_indexes), number_drop)\n",
    "    #     tmp_df = tmp_df.drop(drop_indexes)\n",
    "\n",
    "    # simple analysis\n",
    "    labels = tmp_df['Label'].unique()\n",
    "    print('labels: {0}\\n'.format(labels))\n",
    "    \n",
    "    df = pd.concat([df, tmp_df])\n",
    "\n",
    "# delete useless features\n",
    "df.drop(columns=removed_fields, axis=1, inplace=True)\n",
    "\n",
    "# one-hot-encoding\n",
    "df = pd.get_dummies(df, columns=one_hot_col_list)\n",
    "\n",
    "# string replacement\n",
    "for old_value, new_value in replace_strings.items():\n",
    "    df = df.replace(to_replace=old_value, value=new_value, regex=True)\n",
    "for old_value, new_value in remove_rows_with_str.items():\n",
    "    df = df.replace(to_replace=old_value, value=new_value)\n",
    "\n",
    "# preprocess hex value, str -> int\n",
    "for field in fields_with_hex_value:\n",
    "    df[field] = df[field].fillna(-1)\n",
    "    df[field] = df[field].apply(lambda x: x if type(x) is str else int(x))\n",
    "    df[field] = df[field].apply(lambda x: int(x, 0) if type(x) is str and x[:2] == \"0x\" else x)\n",
    "    # df[field] = df[field].apply(lambda x: int(str(x), 0))\n",
    "    df[field] = df[field].apply(lambda x: int(float(str(x))))\n",
    "\n",
    "# column name cleaning\n",
    "column_names = df.columns.values\n",
    "for i in range(len(column_names)):\n",
    "    column_names[i] = column_names[i].strip()\n",
    "df.columns = column_names\n",
    "\n",
    "output_filename = os.path.join(folder, filename_label)\n",
    "df.to_csv(output_filename, encoding='utf-8', index=False)"
   ]
  },
  {
   "cell_type": "markdown",
   "metadata": {},
   "source": [
    "2. Visualization (data number)"
   ]
  },
  {
   "cell_type": "code",
   "execution_count": 17,
   "metadata": {},
   "outputs": [
    {
     "name": "stdout",
     "output_type": "stream",
     "text": [
      "\n",
      "Data number:\n",
      "class0: 100000\n",
      "class1: 50000\n",
      "class2: 466\n",
      "class4: 68\n",
      "class6: 151\n",
      "class7: 126\n",
      "class8: 96\n",
      "class12: 64\n",
      "class13: 24535\n",
      "class14: 88\n",
      "class15: 64\n",
      "class16: 64\n",
      "class17: 1360\n"
     ]
    },
    {
     "data": {
      "image/png": "[encoded data removed]",
      "text/plain": [
       "<Figure size 640x480 with 1 Axes>"
      ]
     },
     "metadata": {},
     "output_type": "display_data"
    }
   ],
   "source": [
    "def bar_class_num(technique_data_size):\n",
    "    class_num = np.arange(len(technique_data_size))\n",
    "    # data_nums = plt.bar(class_num, technique_data_size, 0.2)\n",
    "    data_nums = plt.bar(class_num, technique_data_size)\n",
    "    for item in data_nums:\n",
    "        height = item.get_height()\n",
    "        plt.text(\n",
    "            item.get_x()+item.get_width()/2., \n",
    "            height, \n",
    "            '%d' % int(height),\n",
    "            ha = \"center\",\n",
    "            va = \"bottom\",\n",
    "        )\n",
    "    labels.pop(0)\n",
    "    plt.xticks(class_num, labels)\n",
    "    plt.xlabel(\"Class\")\n",
    "    plt.ylabel(\"Number\")\n",
    "    plt.title(\"Preprocessed Network Traffic Data\")\n",
    "    plt.tight_layout()\n",
    "    plt.savefig(\"traffic.png\", dpi=400)\n",
    "    plt.show()\n",
    "\n",
    "technique_data_size = []\n",
    "df = pd.read_csv(os.path.join(folder, \"select_\"+filename_label))\n",
    "labels = df['Label'].unique()\n",
    "labels = [int(i) for i in labels]\n",
    "labels.sort()\n",
    "with open(\"labels_table.json\", \"r\") as f:\n",
    "    label_table = json.load(f)\n",
    "\n",
    "for i in labels:\n",
    "    if i != 0:\n",
    "        class_data_size = len(df[df['Label'] == i])\n",
    "        technique_data_size.append(class_data_size)\n",
    "\n",
    "print(\"\\nData number:\")\n",
    "for i in labels:\n",
    "    print(\"class{0}: {1}\".format(i, len(df[df['Label'] == i])))\n",
    "\n",
    "bar_class_num(technique_data_size)"
   ]
  },
  {
   "cell_type": "markdown",
   "metadata": {},
   "source": [
    "3. Feature selection\n",
    "    * remove duplicated\n",
    "    * remove similar features"
   ]
  },
  {
   "cell_type": "code",
   "execution_count": 16,
   "metadata": {},
   "outputs": [
    {
     "name": "stdout",
     "output_type": "stream",
     "text": [
      "origin data number: 3646136\n",
      "origin features: 56\n",
      "[1. 1. 1. 1. 1. 1. 1. 0. 1. 1. 1. 1. 1. 1. 1. 1. 1. 1. 1. 0. 1. 1. 1. 1.\n",
      " 1. 1. 1. 1. 1. 1. 1. 1. 1. 1. 1. 1. 1. 1. 1. 1. 1. 1. 1. 0. 1. 0. 1. 1.\n",
      " 1. 1. 1. 1. 1. 1.]\n",
      "remain data number: 177082\n",
      "remain features: 41\n"
     ]
    }
   ],
   "source": [
    "from sklearn.preprocessing import StandardScaler, RobustScaler, Normalizer, QuantileTransformer, PowerTransformer\n",
    "from sklearn.feature_selection import VarianceThreshold\n",
    "\n",
    "df = pd.read_csv(os.path.join(folder, filename_label))\n",
    "del_list = ['StartTime', 'LastTime']\n",
    "\n",
    "print(\"origin data number: {0}\".format(len(df.index)))\n",
    "print(\"origin features: {0}\".format(len(df.columns)-1))\n",
    "\n",
    "\n",
    "# data cleaning\n",
    "df.drop_duplicates(keep=False, inplace=True)\n",
    "df.drop(columns=del_list, inplace=True)\n",
    "\n",
    "# data cleaning for normal data\n",
    "df_tmp = df.loc[df['Label'] == 0].copy()\n",
    "df_tmp.drop_duplicates(keep=False, inplace=True)\n",
    "df_tmp = df_tmp.sample(n=100000, random_state=47)\n",
    "df.drop(df[df['Label'] == 0].index, inplace=True)\n",
    "df = pd.concat([df, df_tmp])\n",
    "\n",
    "# data cleaning for class 1 data (port scanning)\n",
    "df_tmp = df.loc[df['Label'] == 1].copy()\n",
    "df_tmp.drop_duplicates(keep=False, inplace=True)\n",
    "df_tmp = df_tmp.sample(n=50000, random_state=47)\n",
    "df.drop(df[df['Label'] == 1].index, inplace=True)\n",
    "df = pd.concat([df, df_tmp])\n",
    "\n",
    "\n",
    "# # feature scaling\n",
    "# y_tmp = df['Label']\n",
    "# df.drop(columns=['Label'], inplace=True)\n",
    "# for feature in df.columns.values:\n",
    "#     # scaler = RobustScaler().fit(df[feature].values.reshape(-1, 1))\n",
    "#     scaler = StandardScaler().fit(df[feature].values.reshape(-1, 1))\n",
    "#     # scaler = Normalizer().fit(df[feature].values.reshape(-1, 1))\n",
    "#     # scaler = QuantileTransformer().fit(df[feature].values.reshape(-1, 1))\n",
    "#     # scaler = PowerTransformer().fit(df[feature].values.reshape(-1, 1))\n",
    "#     df[feature] = scaler.transform(df[feature].values.reshape(-1, 1))\n",
    "# df = pd.concat([df, y_tmp], axis=1)\n",
    "\n",
    "\n",
    "# feature selection\n",
    "y_tmp = df['Label']\n",
    "y = df['Label'].values.astype(int)\n",
    "df.drop('Label', axis=1, inplace=True)\n",
    "selector = VarianceThreshold(threshold=0)\n",
    "selector.fit(df)\n",
    "print(selector.variances_)\n",
    "constant_columns = [column for column in df.columns\n",
    "                    if column not in \n",
    "                    df.columns[selector.get_support()]]\n",
    "df.drop(labels=constant_columns, axis=1, inplace=True)\n",
    "\n",
    "df_tmp = df\n",
    "corr_features = set()\n",
    "corr_matrix = df_tmp.corr()\n",
    "for i in range(len(corr_matrix.columns)):\n",
    "    for j in range(i):\n",
    "        if abs(corr_matrix.iloc[i, j]) > 0.95:\n",
    "            colname = corr_matrix.columns[i]\n",
    "            corr_features.add(colname)\n",
    "df.drop(labels=corr_features, axis=1, inplace=True)\n",
    "\n",
    "df = pd.concat([df, y_tmp], axis=1)\n",
    "\n",
    "\n",
    "# copy data\n",
    "for class_label in df['Label'].unique():\n",
    "    while len(df[df['Label'] == class_label]) < 50:\n",
    "        tmp_df = df[df['Label'] == class_label]\n",
    "        df = pd.concat([df, tmp_df])\n",
    "\n",
    "\n",
    "print(\"remain data number: {0}\".format(len(df.index)))\n",
    "print(\"remain features: {0}\".format(len(df.columns)-1))\n",
    "\n",
    "output_file = os.path.join(folder, \"select_\"+filename_label)\n",
    "df.to_csv(output_file, encoding='utf-8', index=False)"
   ]
  }
 ],
 "metadata": {
  "kernelspec": {
   "display_name": "Python 3.10.6 ('DM')",
   "language": "python",
   "name": "python3"
  },
  "language_info": {
   "codemirror_mode": {
    "name": "ipython",
    "version": 3
   },
   "file_extension": ".py",
   "mimetype": "text/x-python",
   "name": "python",
   "nbconvert_exporter": "python",
   "pygments_lexer": "ipython3",
   "version": "3.10.6"
  },
  "orig_nbformat": 4,
  "vscode": {
   "interpreter": {
    "hash": "55ef80be22d3a77a095e621894062596f3089b705541c545b412fdac063b9449"
   }
  }
 },
 "nbformat": 4,
 "nbformat_minor": 2
}
