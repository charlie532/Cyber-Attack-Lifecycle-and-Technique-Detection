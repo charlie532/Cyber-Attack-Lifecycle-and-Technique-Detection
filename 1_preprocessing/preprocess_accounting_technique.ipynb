{
 "cells": [
  {
   "cell_type": "markdown",
   "metadata": {},
   "source": [
    "Informations:\n",
    "* Data collecting tool: **Atop**  \n",
    "* Features extraction tool: **Atop**"
   ]
  },
  {
   "cell_type": "code",
   "execution_count": null,
   "metadata": {},
   "outputs": [
    {
     "ename": "ImportError",
     "evalue": "cannot import name 'pyplot'",
     "output_type": "error",
     "traceback": [
      "\u001b[1;31m---------------------------------------------------------------------------\u001b[0m",
      "\u001b[1;31mImportError\u001b[0m                               Traceback (most recent call last)",
      "\u001b[1;32m<ipython-input-1-16aa255c896d>\u001b[0m in \u001b[0;36m<module>\u001b[1;34m\u001b[0m\n\u001b[0;32m      2\u001b[0m \u001b[1;32mimport\u001b[0m \u001b[0mpandas\u001b[0m \u001b[1;32mas\u001b[0m \u001b[0mpd\u001b[0m\u001b[1;33m\u001b[0m\u001b[1;33m\u001b[0m\u001b[0m\n\u001b[0;32m      3\u001b[0m \u001b[1;32mimport\u001b[0m \u001b[0mnumpy\u001b[0m \u001b[1;32mas\u001b[0m \u001b[0mnp\u001b[0m\u001b[1;33m\u001b[0m\u001b[1;33m\u001b[0m\u001b[0m\n\u001b[1;32m----> 4\u001b[1;33m \u001b[1;32mfrom\u001b[0m \u001b[0mmatplotlib\u001b[0m \u001b[1;32mimport\u001b[0m \u001b[0mpyplot\u001b[0m \u001b[1;32mas\u001b[0m \u001b[0mplt\u001b[0m\u001b[1;33m\u001b[0m\u001b[1;33m\u001b[0m\u001b[0m\n\u001b[0m\u001b[0;32m      5\u001b[0m \u001b[1;32mimport\u001b[0m \u001b[0mjson\u001b[0m\u001b[1;33m\u001b[0m\u001b[1;33m\u001b[0m\u001b[0m\n\u001b[0;32m      6\u001b[0m \u001b[1;33m\u001b[0m\u001b[0m\n",
      "\u001b[1;31mImportError\u001b[0m: cannot import name 'pyplot'"
     ]
    }
   ],
   "source": [
    "import os\n",
    "import pandas as pd\n",
    "import numpy as np\n",
    "from matplotlib import pyplot as plt\n",
    "import json\n",
    "\n",
    "folder = os.path.join(\"..\", \"0_dataset\", \"accounting\")\n",
    "filenames = ['label_atop_mirai.csv', 'label_atop_disk_wipe.csv', 'label_atop_ransomware.csv',\n",
    "                  'label_atop_resource_hijacking.csv', 'label_atop_end_point_dos.csv']\n",
    "filename_label = 'preprocess_label_atop.csv'\n",
    "label_table_path = 'labels_table.json'"
   ]
  },
  {
   "cell_type": "markdown",
   "metadata": {},
   "source": [
    "1. Preprocessing"
   ]
  },
  {
   "cell_type": "code",
   "execution_count": 14,
   "metadata": {},
   "outputs": [
    {
     "name": "stdout",
     "output_type": "stream",
     "text": [
      "\n",
      "\n",
      "-------------------------------------\n",
      "\n",
      "file name:label_atop_mirai.csv\n",
      "labels: [ 0  1  2  3  5  9 11 12]\n",
      "\n",
      "\n",
      "-------------------------------------\n",
      "\n",
      "file name:label_atop_disk_wipe.csv\n",
      "labels: [ 0  1  2  4  6  8 14]\n",
      "\n",
      "\n",
      "-------------------------------------\n",
      "\n",
      "file name:label_atop_ransomware.csv\n",
      "labels: [ 0  1  4  6  7 12 15]\n",
      "\n",
      "\n",
      "-------------------------------------\n",
      "\n",
      "file name:label_atop_resource_hijacking.csv\n",
      "labels: [ 0  1  2  6  8 16]\n",
      "\n",
      "\n",
      "-------------------------------------\n",
      "\n",
      "file name:label_atop_end_point_dos.csv\n",
      "labels: [ 0 17  2]\n"
     ]
    }
   ],
   "source": [
    "one_hot_col_list = ['POLI', 'ST', 'EXC', 'S']\n",
    "# removed_fields = ['TIMESTAMP', 'PID', 'CMD', 'Hostname', 'Tactic', 'Technique', 'SubTechnique']\n",
    "removed_fields = ['PID', 'CMD', 'Hostname', 'Tactic', 'Technique', 'SubTechnique']\n",
    "replace_strings = {'%': '', 'K': '000', 'M': '000000', 'G': '000000000'}\n",
    "remove_rows_with_str = {'-': '0'}\n",
    "\n",
    "df = pd.DataFrame()\n",
    "for tmp_filename in filenames:\n",
    "    print(\"\\n\")\n",
    "    print(\"-------------------------------------\\n\")\n",
    "    print(\"file name:{0}\".format(tmp_filename))\n",
    "    filename = os.path.join(folder, tmp_filename)\n",
    "    tmp_df = pd.read_csv(filename)\n",
    "\n",
    "    # simple analysis\n",
    "    labels = tmp_df['Label'].unique()\n",
    "    print('labels: {0}'.format(labels))\n",
    "    \n",
    "    df = df.append(tmp_df)\n",
    "\n",
    "# delete useless features\n",
    "df.drop(columns=removed_fields, axis=1, inplace=True)\n",
    "\n",
    "# one-hot-encoding\n",
    "df = pd.get_dummies(df, columns=one_hot_col_list)\n",
    "\n",
    "df.drop_duplicates(keep=False, inplace=True)\n",
    "\n",
    "# string replacement\n",
    "for old_value, new_value in replace_strings.items():\n",
    "    df = df.replace(to_replace=old_value, value=new_value, regex=True)\n",
    "for old_value, new_value in remove_rows_with_str.items():\n",
    "    df = df.replace(to_replace=old_value, value=new_value)\n",
    "\n",
    "# turn to number\n",
    "for k in list(df):\n",
    "    df[k] = pd.to_numeric(df[k], errors='ignore')\n",
    "\n",
    "output_filename = os.path.join(folder, filename_label)\n",
    "df.to_csv(output_filename, encoding='utf-8', index=False)"
   ]
  },
  {
   "cell_type": "markdown",
   "metadata": {},
   "source": [
    "2. Visualization (data number)"
   ]
  },
  {
   "cell_type": "code",
   "execution_count": 31,
   "metadata": {},
   "outputs": [
    {
     "name": "stdout",
     "output_type": "stream",
     "text": [
      "\n",
      "Data number:\n",
      "class0: 97549\n",
      "class1: 91\n",
      "class2: 550\n",
      "class3: 478\n",
      "class4: 171\n",
      "class5: 720\n",
      "class6: 2065\n",
      "class7: 3973\n",
      "class8: 8314\n",
      "class9: 10\n",
      "class11: 1322\n",
      "class12: 3554\n",
      "class14: 1980\n",
      "class15: 1626\n",
      "class16: 2285\n",
      "class17: 2350\n"
     ]
    },
    {
     "data": {
      "image/png": "[encoded data removed]",
      "text/plain": [
       "<Figure size 432x288 with 1 Axes>"
      ]
     },
     "metadata": {
      "needs_background": "light"
     },
     "output_type": "display_data"
    }
   ],
   "source": [
    "def bar_class_num(technique_data_size):\n",
    "    class_num = np.arange(len(technique_data_size))\n",
    "    # data_nums = plt.bar(class_num, technique_data_size, 0.2)\n",
    "    data_nums = plt.bar(class_num, technique_data_size)\n",
    "    for item in data_nums:\n",
    "        height = item.get_height()\n",
    "        plt.text(\n",
    "            item.get_x()+item.get_width()/2., \n",
    "            height, \n",
    "            '%d' % int(height),\n",
    "            ha = \"center\",\n",
    "            va = \"bottom\",\n",
    "        )\n",
    "    labels.pop(0)\n",
    "    plt.xticks(class_num, labels)\n",
    "    plt.xlabel(\"Class\")\n",
    "    plt.ylabel(\"Number\")\n",
    "    plt.title(\"Preprocessed Accounting Data\")\n",
    "    plt.tight_layout()\n",
    "    plt.savefig(\"accounting.png\", dpi=400)\n",
    "    plt.show()\n",
    "\n",
    "technique_data_size = []\n",
    "df = pd.read_csv(os.path.join(folder, \"select_\"+filename_label))\n",
    "labels = df['Label'].unique()\n",
    "labels = [int(i) for i in labels]\n",
    "labels.sort()\n",
    "with open(\"labels_table.json\", \"r\") as f:\n",
    "    label_table = json.load(f)\n",
    "\n",
    "for i in labels:\n",
    "    if i != 0:\n",
    "        class_data_size = len(df[df['Label'] == i])\n",
    "        technique_data_size.append(class_data_size)\n",
    "\n",
    "print(\"\\nData number:\")\n",
    "for i in labels:\n",
    "    print(\"class{0}: {1}\".format(i, len(df[df['Label'] == i])))\n",
    "\n",
    "bar_class_num(technique_data_size)"
   ]
  },
  {
   "cell_type": "markdown",
   "metadata": {},
   "source": [
    "3. Feature selection\n",
    "    * remove duplicated\n",
    "    * remove similar features"
   ]
  },
  {
   "cell_type": "code",
   "execution_count": 30,
   "metadata": {},
   "outputs": [
    {
     "name": "stdout",
     "output_type": "stream",
     "text": [
      "origin data number: 7758541\n",
      "origin features: 50\n",
      "remain data number: 127038\n",
      "remain features: 39\n"
     ]
    }
   ],
   "source": [
    "df = pd.read_csv(os.path.join(folder, filename_label))\n",
    "del_list = ['TIMESTAMP']\n",
    "\n",
    "print(\"origin data number: {0}\".format(len(df.index)))\n",
    "print(\"origin features: {0}\".format(len(df.columns)-1))\n",
    "\n",
    "\n",
    "# drop duplicated\n",
    "df.drop_duplicates(keep=False, inplace=True)\n",
    "df.drop(columns=del_list, inplace=True)\n",
    "\n",
    "\n",
    "# drop similar\n",
    "df_tmp1 = df.drop(columns=['Label'])\n",
    "corr_features = set()\n",
    "corr_matrix = df_tmp1.corr()\n",
    "\n",
    "for i in range(len(corr_matrix.columns)):\n",
    "    for j in range(i):\n",
    "        if abs(corr_matrix.iloc[i, j]) > 0.9:\n",
    "            colname = corr_matrix.columns[i]\n",
    "            corr_features.add(colname)\n",
    "\n",
    "df.drop(labels=corr_features, axis=1, inplace=True)\n",
    "# df.drop_duplicates(keep=False, inplace=True)\n",
    "\n",
    "# drop duplicate for normal data\n",
    "df_tmp2 = df.loc[df['Label'] == 0].copy()\n",
    "df_tmp2.drop_duplicates(keep=False, inplace=True)\n",
    "df.drop(df[df['Label'] == 0].index, inplace=True)\n",
    "df = pd.concat([df, df_tmp2])\n",
    "\n",
    "\n",
    "print(\"remain data number: {0}\".format(len(df.index)))\n",
    "print(\"remain features: {0}\".format(len(df.columns)-1))\n",
    "\n",
    "output_file = os.path.join(folder, \"select_\"+filename_label)\n",
    "df.to_csv(output_file, encoding='utf-8', index=False)"
   ]
  }
 ],
 "metadata": {
  "kernelspec": {
   "display_name": "Python 3.8.15 ('lab')",
   "language": "python",
   "name": "python3"
  },
  "language_info": {
   "codemirror_mode": {
    "name": "ipython",
    "version": 3
   },
   "file_extension": ".py",
   "mimetype": "text/x-python",
   "name": "python",
   "nbconvert_exporter": "python",
   "pygments_lexer": "ipython3",
   "version": "3.8.15"
  },
  "orig_nbformat": 4,
  "vscode": {
   "interpreter": {
    "hash": "acbeb801ef841938b72c15cd1756d069d76df8d13059b274a4de3d770d945625"
   }
  }
 },
 "nbformat": 4,
 "nbformat_minor": 2
}
