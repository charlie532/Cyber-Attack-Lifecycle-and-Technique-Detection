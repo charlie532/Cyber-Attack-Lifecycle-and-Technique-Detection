{
 "cells": [
  {
   "cell_type": "markdown",
   "metadata": {},
   "source": [
    "Informations:\n",
    "* Data collecting tool: **Atop**  \n",
    "* Features extraction tool: **Atop**"
   ]
  },
  {
   "cell_type": "code",
   "execution_count": 31,
   "metadata": {},
   "outputs": [],
   "source": [
    "import os\n",
    "import pandas as pd\n",
    "import numpy as np\n",
    "from matplotlib import pyplot as plt\n",
    "import json\n",
    "\n",
    "folder = os.path.join(\"..\", \"0_dataset\", \"accounting\")\n",
    "filenames = ['label_atop_mirai.csv', 'label_atop_disk_wipe.csv', 'label_atop_ransomware.csv',\n",
    "                  'label_atop_resource_hijacking.csv', 'label_atop_end_point_dos.csv']\n",
    "filename_label = 'preprocess_label_atop.csv'\n",
    "label_table_path = 'labels_table.json'"
   ]
  },
  {
   "cell_type": "markdown",
   "metadata": {},
   "source": [
    "1. Preprocessing"
   ]
  },
  {
   "cell_type": "code",
   "execution_count": 32,
   "metadata": {},
   "outputs": [
    {
     "name": "stdout",
     "output_type": "stream",
     "text": [
      "\n",
      "\n",
      "-------------------------------------\n",
      "\n",
      "file name:label_atop_mirai.csv\n",
      "labels: [ 0  1  2  3  5  9 11 12]\n"
     ]
    },
    {
     "name": "stderr",
     "output_type": "stream",
     "text": [
      "C:\\Users\\user\\AppData\\Local\\Temp\\ipykernel_4424\\346503022.py:19: FutureWarning: The frame.append method is deprecated and will be removed from pandas in a future version. Use pandas.concat instead.\n",
      "  df = df.append(tmp_df)\n"
     ]
    },
    {
     "name": "stdout",
     "output_type": "stream",
     "text": [
      "\n",
      "\n",
      "-------------------------------------\n",
      "\n",
      "file name:label_atop_disk_wipe.csv\n",
      "labels: [ 0  1  2  4  6  8 14]\n"
     ]
    },
    {
     "name": "stderr",
     "output_type": "stream",
     "text": [
      "C:\\Users\\user\\AppData\\Local\\Temp\\ipykernel_4424\\346503022.py:19: FutureWarning: The frame.append method is deprecated and will be removed from pandas in a future version. Use pandas.concat instead.\n",
      "  df = df.append(tmp_df)\n"
     ]
    },
    {
     "name": "stdout",
     "output_type": "stream",
     "text": [
      "\n",
      "\n",
      "-------------------------------------\n",
      "\n",
      "file name:label_atop_ransomware.csv\n",
      "labels: [ 0  1  4  6  7 12 15]\n"
     ]
    },
    {
     "name": "stderr",
     "output_type": "stream",
     "text": [
      "C:\\Users\\user\\AppData\\Local\\Temp\\ipykernel_4424\\346503022.py:19: FutureWarning: The frame.append method is deprecated and will be removed from pandas in a future version. Use pandas.concat instead.\n",
      "  df = df.append(tmp_df)\n"
     ]
    },
    {
     "name": "stdout",
     "output_type": "stream",
     "text": [
      "\n",
      "\n",
      "-------------------------------------\n",
      "\n",
      "file name:label_atop_resource_hijacking.csv\n",
      "labels: [ 0  1  2  6  8 16]\n"
     ]
    },
    {
     "name": "stderr",
     "output_type": "stream",
     "text": [
      "C:\\Users\\user\\AppData\\Local\\Temp\\ipykernel_4424\\346503022.py:19: FutureWarning: The frame.append method is deprecated and will be removed from pandas in a future version. Use pandas.concat instead.\n",
      "  df = df.append(tmp_df)\n"
     ]
    },
    {
     "name": "stdout",
     "output_type": "stream",
     "text": [
      "\n",
      "\n",
      "-------------------------------------\n",
      "\n",
      "file name:label_atop_end_point_dos.csv\n",
      "labels: [ 0 17  2]\n"
     ]
    },
    {
     "name": "stderr",
     "output_type": "stream",
     "text": [
      "C:\\Users\\user\\AppData\\Local\\Temp\\ipykernel_4424\\346503022.py:19: FutureWarning: The frame.append method is deprecated and will be removed from pandas in a future version. Use pandas.concat instead.\n",
      "  df = df.append(tmp_df)\n"
     ]
    }
   ],
   "source": [
    "one_hot_col_list = ['POLI', 'ST', 'EXC', 'S']\n",
    "# removed_fields = ['TIMESTAMP', 'PID', 'CMD', 'Hostname', 'Tactic', 'Technique', 'SubTechnique']\n",
    "removed_fields = ['PID', 'CMD', 'Hostname', 'Tactic', 'Technique', 'SubTechnique']\n",
    "replace_strings = {'%': '', 'K': '000', 'M': '000000', 'G': '000000000'}\n",
    "remove_rows_with_str = {'-': '0'}\n",
    "\n",
    "df = pd.DataFrame()\n",
    "for tmp_filename in filenames:\n",
    "    print(\"\\n\")\n",
    "    print(\"-------------------------------------\\n\")\n",
    "    print(\"file name:{0}\".format(tmp_filename))\n",
    "    filename = os.path.join(folder, tmp_filename)\n",
    "    tmp_df = pd.read_csv(filename)\n",
    "\n",
    "    # simple analysis\n",
    "    labels = tmp_df['Label'].unique()\n",
    "    print('labels: {0}'.format(labels))\n",
    "    \n",
    "    df = df.append(tmp_df)\n",
    "\n",
    "# delete useless features\n",
    "df.drop(columns=removed_fields, axis=1, inplace=True)\n",
    "\n",
    "# one-hot-encoding\n",
    "df = pd.get_dummies(df, columns=one_hot_col_list)\n",
    "\n",
    "df.drop_duplicates(keep=False, inplace=True)\n",
    "\n",
    "# string replacement\n",
    "for old_value, new_value in replace_strings.items():\n",
    "    df = df.replace(to_replace=old_value, value=new_value, regex=True)\n",
    "for old_value, new_value in remove_rows_with_str.items():\n",
    "    df = df.replace(to_replace=old_value, value=new_value)\n",
    "\n",
    "# turn to number\n",
    "for k in list(df):\n",
    "    df[k] = pd.to_numeric(df[k], errors='ignore')\n",
    "\n",
    "output_filename = os.path.join(folder, filename_label)\n",
    "df.to_csv(output_filename, encoding='utf-8', index=False)"
   ]
  },
  {
   "attachments": {},
   "cell_type": "markdown",
   "metadata": {},
   "source": [
    "2. training preparation"
   ]
  },
  {
   "cell_type": "code",
   "execution_count": 41,
   "metadata": {},
   "outputs": [
    {
     "name": "stdout",
     "output_type": "stream",
     "text": [
      "origin data number: 7758541\n",
      "origin features: 50\n",
      "[8.70000000e+07 9.78400000e+07 8.19720000e+07 1.00000000e+02\n",
      " 1.66800000e+07 5.08706196e-01 4.58110000e+07 9.35560000e+07\n",
      " 9.79760000e+07 9.97000000e+07 1.00712000e+08 3.19599052e+00\n",
      " 1.71330231e-01 4.17291950e+01 2.04621285e-04 2.94639217e+01\n",
      " 1.39000000e+02 2.31444966e-01 2.25835437e-01 1.86804809e+01\n",
      " 5.49754018e-02 0.00000000e+00 5.49962587e-02 2.36144237e-05\n",
      " 1.81833456e-01 2.55404451e-02 7.08399250e-05 1.47938063e-01\n",
      " 3.08565063e-02 2.12489661e-04 5.49754018e-02 4.02461233e-02\n",
      " 1.22902148e-02 3.14856504e-05 7.87159849e-06 7.87104082e-05\n",
      " 3.93567532e-05 3.14856504e-05 5.50985869e-05 2.36094047e-04\n",
      " 3.37335703e-03 3.14856504e-05 3.14856504e-05 1.41669812e-04\n",
      " 5.49754018e-02 6.29693179e-05 1.49441349e-01 1.83994552e-01\n",
      " 1.60324008e-03]\n",
      "remain data number: 127108\n",
      "remain features: 41\n"
     ]
    }
   ],
   "source": [
    "from sklearn.preprocessing import StandardScaler, RobustScaler, Normalizer, QuantileTransformer, PowerTransformer\n",
    "from sklearn.feature_selection import VarianceThreshold\n",
    "\n",
    "df = pd.read_csv(os.path.join(folder, filename_label))\n",
    "del_list = ['TIMESTAMP']\n",
    "\n",
    "\n",
    "print(\"origin data number: {0}\".format(len(df.index)))\n",
    "print(\"origin features: {0}\".format(len(df.columns)-1))\n",
    "\n",
    "\n",
    "# data cleaning\n",
    "df.drop_duplicates(keep=False, inplace=True)\n",
    "df.drop(columns=del_list, inplace=True)\n",
    "\n",
    "\n",
    "# data cleaning for normal data\n",
    "df_tmp = df.loc[df['Label'] == 0].copy()\n",
    "df_tmp.drop_duplicates(keep=False, inplace=True)\n",
    "# df_tmp = df_tmp.sample(n=50000, random_state=47)\n",
    "df.drop(df[df['Label'] == 0].index, inplace=True)\n",
    "df = pd.concat([df, df_tmp])\n",
    "\n",
    "\n",
    "# # feature scaling\n",
    "# y_tmp = df['Label']\n",
    "# df.drop(columns=['Label'], inplace=True)\n",
    "# for feature in df.columns.values:\n",
    "#     # scaler = RobustScaler().fit(df[feature].values.reshape(-1, 1))\n",
    "#     scaler = StandardScaler().fit(df[feature].values.reshape(-1, 1))\n",
    "#     # scaler = Normalizer().fit(df[feature].values.reshape(-1, 1))\n",
    "#     # scaler = QuantileTransformer().fit(df[feature].values.reshape(-1, 1))\n",
    "#     # scaler = PowerTransformer().fit(df[feature].values.reshape(-1, 1))\n",
    "#     df[feature] = scaler.transform(df[feature].values.reshape(-1, 1))\n",
    "# df = pd.concat([df, y_tmp], axis=1)\n",
    "\n",
    "\n",
    "# feature selection\n",
    "y_tmp = df['Label']\n",
    "y = df['Label'].values.astype(int)\n",
    "df.drop('Label', axis=1, inplace=True)\n",
    "selector = VarianceThreshold(threshold=0)\n",
    "selector.fit(df)\n",
    "print(selector.variances_)\n",
    "constant_columns = [column for column in df.columns\n",
    "                    if column not in \n",
    "                    df.columns[selector.get_support()]]\n",
    "df.drop(labels=constant_columns, axis=1, inplace=True)\n",
    "\n",
    "df_tmp = df\n",
    "corr_features = set()\n",
    "corr_matrix = df_tmp.corr()\n",
    "for i in range(len(corr_matrix.columns)):\n",
    "    for j in range(i):\n",
    "        if abs(corr_matrix.iloc[i, j]) > 0.95:\n",
    "            colname = corr_matrix.columns[i]\n",
    "            corr_features.add(colname)\n",
    "df.drop(labels=corr_features, axis=1, inplace=True)\n",
    "\n",
    "df = pd.concat([df, y_tmp], axis=1)\n",
    "\n",
    "\n",
    "# copy data\n",
    "for class_label in df['Label'].unique():\n",
    "    while len(df[df['Label'] == class_label]) < 50:\n",
    "        tmp_df = df[df['Label'] == class_label]\n",
    "        df = pd.concat([df, tmp_df])\n",
    "\n",
    "\n",
    "print(\"remain data number: {0}\".format(len(df.index)))\n",
    "print(\"remain features: {0}\".format(len(df.columns)-1))\n",
    "\n",
    "output_file = os.path.join(folder, \"select_\"+filename_label)\n",
    "df.to_csv(output_file, encoding='utf-8', index=False)"
   ]
  },
  {
   "attachments": {},
   "cell_type": "markdown",
   "metadata": {},
   "source": [
    "3. Visualization (data number)"
   ]
  },
  {
   "cell_type": "code",
   "execution_count": 42,
   "metadata": {},
   "outputs": [
    {
     "name": "stdout",
     "output_type": "stream",
     "text": [
      "\n",
      "Data number:\n",
      "class0: 97549\n",
      "class1: 91\n",
      "class2: 550\n",
      "class3: 478\n",
      "class4: 171\n",
      "class5: 720\n",
      "class6: 2065\n",
      "class7: 3973\n",
      "class8: 8314\n",
      "class9: 80\n",
      "class11: 1322\n",
      "class12: 3554\n",
      "class14: 1980\n",
      "class15: 1626\n",
      "class16: 2285\n",
      "class17: 2350\n"
     ]
    },
    {
     "data": {
      "image/png": "[encoded data removed]",
      "text/plain": [
       "<Figure size 640x480 with 1 Axes>"
      ]
     },
     "metadata": {},
     "output_type": "display_data"
    }
   ],
   "source": [
    "def bar_class_num(technique_data_size):\n",
    "    class_num = np.arange(len(technique_data_size))\n",
    "    # data_nums = plt.bar(class_num, technique_data_size, 0.2)\n",
    "    data_nums = plt.bar(class_num, technique_data_size)\n",
    "    for item in data_nums:\n",
    "        height = item.get_height()\n",
    "        plt.text(\n",
    "            item.get_x()+item.get_width()/2., \n",
    "            height, \n",
    "            '%d' % int(height),\n",
    "            ha = \"center\",\n",
    "            va = \"bottom\",\n",
    "        )\n",
    "    labels.pop(0)\n",
    "    plt.xticks(class_num, labels)\n",
    "    plt.xlabel(\"Class\")\n",
    "    plt.ylabel(\"Number\")\n",
    "    plt.title(\"Preprocessed Accounting Data\")\n",
    "    plt.tight_layout()\n",
    "    plt.savefig(\"accounting.png\", dpi=400)\n",
    "    plt.show()\n",
    "\n",
    "technique_data_size = []\n",
    "df = pd.read_csv(os.path.join(folder, \"select_\"+filename_label))\n",
    "labels = df['Label'].unique()\n",
    "labels = [int(i) for i in labels]\n",
    "labels.sort()\n",
    "with open(\"labels_table.json\", \"r\") as f:\n",
    "    label_table = json.load(f)\n",
    "\n",
    "for i in labels:\n",
    "    if i != 0:\n",
    "        class_data_size = len(df[df['Label'] == i])\n",
    "        technique_data_size.append(class_data_size)\n",
    "\n",
    "print(\"\\nData number:\")\n",
    "for i in labels:\n",
    "    print(\"class{0}: {1}\".format(i, len(df[df['Label'] == i])))\n",
    "\n",
    "bar_class_num(technique_data_size)"
   ]
  }
 ],
 "metadata": {
  "kernelspec": {
   "display_name": "Python 3.8.15 ('lab')",
   "language": "python",
   "name": "python3"
  },
  "language_info": {
   "codemirror_mode": {
    "name": "ipython",
    "version": 3
   },
   "file_extension": ".py",
   "mimetype": "text/x-python",
   "name": "python",
   "nbconvert_exporter": "python",
   "pygments_lexer": "ipython3",
   "version": "3.8.15"
  },
  "orig_nbformat": 4,
  "vscode": {
   "interpreter": {
    "hash": "acbeb801ef841938b72c15cd1756d069d76df8d13059b274a4de3d770d945625"
   }
  }
 },
 "nbformat": 4,
 "nbformat_minor": 2
}
