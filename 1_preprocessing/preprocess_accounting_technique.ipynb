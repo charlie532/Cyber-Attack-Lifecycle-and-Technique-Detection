{
 "cells": [
  {
   "cell_type": "markdown",
   "metadata": {},
   "source": [
    "Informations:\n",
    "* Data collecting tool: **Atop**  \n",
    "* Features extraction tool: **Atop**"
   ]
  },
  {
   "cell_type": "code",
   "execution_count": 1,
   "metadata": {},
   "outputs": [],
   "source": [
    "import os\n",
    "import pandas as pd\n",
    "import numpy as np\n",
    "from matplotlib import pyplot as plt"
   ]
  },
  {
   "cell_type": "markdown",
   "metadata": {},
   "source": [
    "1. Preprocessing"
   ]
  },
  {
   "cell_type": "code",
   "execution_count": 3,
   "metadata": {},
   "outputs": [
    {
     "name": "stdout",
     "output_type": "stream",
     "text": [
      "\n",
      "\n",
      "-------------------------------------\n",
      "file name:label_atop_mirai.csv\n",
      "-------------------------------------\n",
      "label uniques: [0 1]\n",
      "\n",
      "\n",
      "-------------------------------------\n",
      "file name:label_atop_disk_wipe.csv\n",
      "-------------------------------------\n",
      "label uniques: [0 1]\n",
      "\n",
      "\n",
      "-------------------------------------\n",
      "file name:label_atop_ransomware.csv\n",
      "-------------------------------------\n",
      "label uniques: [0 1]\n",
      "\n",
      "\n",
      "-------------------------------------\n",
      "file name:label_atop_resource_hijacking.csv\n",
      "-------------------------------------\n",
      "label uniques: [0 1]\n",
      "\n",
      "\n",
      "-------------------------------------\n",
      "file name:label_atop_end_point_dos.csv\n",
      "-------------------------------------\n",
      "label uniques: [0 1]\n"
     ]
    }
   ],
   "source": [
    "folder = os.path.join(\"..\", \"0_dataset\", \"accounting\")\n",
    "filenames = ['label_atop_mirai.csv', 'label_atop_disk_wipe.csv', 'label_atop_ransomware.csv',\n",
    "                  'label_atop_resource_hijacking.csv', 'label_atop_end_point_dos.csv']\n",
    "\n",
    "one_hot_col_list = ['POLI', 'ST', 'EXC', 'S']\n",
    "# removed_fields = ['TIMESTAMP', 'PID', 'CMD', 'Hostname', 'Tactic', 'Technique', 'SubTechnique']\n",
    "removed_fields = ['PID', 'CMD', 'Hostname', 'Tactic', 'Technique', 'SubTechnique']\n",
    "replace_strings = {'%': '', 'K': '000', 'M': '000000', 'G': '000000000'}\n",
    "remove_rows_with_str = {'-': '0'}\n",
    "technique_data_size = [0]\n",
    "\n",
    "df = pd.DataFrame()\n",
    "for tmp_filename in filenames:\n",
    "    print(\"\\n\")\n",
    "    print(\"-------------------------------------\")\n",
    "    print(\"file name:{0}\".format(tmp_filename))\n",
    "    print(\"-------------------------------------\")\n",
    "    filename = os.path.join(folder, tmp_filename)\n",
    "    tmp_df = pd.read_csv(filename)\n",
    "\n",
    "    # simple analysis\n",
    "    labels = tmp_df['Label'].unique()\n",
    "    print('label uniques: {0}'.format(labels))\n",
    "    for j in labels:\n",
    "        class_data_size = len(tmp_df[tmp_df['Label'] == j])\n",
    "        # print('number of class-{0}: {1}'.format(j, class_data_size))\n",
    "        if j == 0:\n",
    "            technique_data_size[0] += class_data_size\n",
    "        else:\n",
    "            technique_data_size.append(class_data_size)\n",
    "    # print(\"feature numbers: {0}\".format(len(column_names)))\n",
    "    # print(tmp_df.dtypes)\n",
    "    # print(tmp_df.isnull().any())\n",
    "    # print(tmp_df['RDDSK'].unique())\n",
    "    df = df.append(tmp_df)\n",
    "\n",
    "# delete useless features\n",
    "for field in removed_fields:\n",
    "    del df[field]\n",
    "\n",
    "# one-hot-encoding\n",
    "df = pd.get_dummies(df, columns=one_hot_col_list)\n",
    "\n",
    "# string replacement\n",
    "for old_value, new_value in replace_strings.items():\n",
    "    df = df.replace(to_replace=old_value, value=new_value, regex=True)\n",
    "for old_value, new_value in remove_rows_with_str.items():\n",
    "    df = df.replace(to_replace=old_value, value=new_value)\n",
    "\n",
    "# turn to number\n",
    "for k in list(df):\n",
    "    df[k] = pd.to_numeric(df[k], errors='ignore')\n",
    "\n",
    "output_filename = os.path.join(folder, 'preprocess_label_atop.csv')\n",
    "df.to_csv(output_filename, encoding='utf-8', index=False)"
   ]
  },
  {
   "cell_type": "markdown",
   "metadata": {},
   "source": [
    "2. Visualization (class number)"
   ]
  },
  {
   "cell_type": "code",
   "execution_count": 6,
   "metadata": {},
   "outputs": [
    {
     "data": {
      "image/png": "[encoded data removed]",
      "text/plain": [
       "<Figure size 432x288 with 1 Axes>"
      ]
     },
     "metadata": {
      "needs_background": "light"
     },
     "output_type": "display_data"
    },
    {
     "name": "stdout",
     "output_type": "stream",
     "text": [
      "number of class-0: 2123993\n",
      "number of class-1: 84100\n",
      "number of class-2: 625\n",
      "number of class-3: 875\n",
      "number of class-4: 400\n",
      "number of class-5: 20323\n"
     ]
    }
   ],
   "source": [
    "def bar_class_num(technique_data_size):\n",
    "    labels = [i for i in range(len(technique_data_size))]\n",
    "    class_num = np.arange(len(technique_data_size))\n",
    "    plt.bar(class_num, technique_data_size)\n",
    "    plt.xticks(class_num, labels)\n",
    "    plt.xlabel(\"Classes\")\n",
    "    plt.ylabel(\"Number of data\")\n",
    "    plt.title(\"Number of each class\")\n",
    "    plt.show()\n",
    "\n",
    "bar_class_num(technique_data_size)\n",
    "for i in range(len(technique_data_size)):\n",
    "    print('number of class-{0}: {1}'.format(i, technique_data_size[i]))"
   ]
  },
  {
   "cell_type": "markdown",
   "metadata": {},
   "source": [
    "3. Data evaluation"
   ]
  },
  {
   "cell_type": "code",
   "execution_count": null,
   "metadata": {},
   "outputs": [],
   "source": []
  },
  {
   "cell_type": "markdown",
   "metadata": {},
   "source": [
    "4. Data balancing"
   ]
  },
  {
   "cell_type": "code",
   "execution_count": null,
   "metadata": {},
   "outputs": [],
   "source": []
  }
 ],
 "metadata": {
  "kernelspec": {
   "display_name": "Python 3.6.13 ('multistage')",
   "language": "python",
   "name": "python3"
  },
  "language_info": {
   "codemirror_mode": {
    "name": "ipython",
    "version": 3
   },
   "file_extension": ".py",
   "mimetype": "text/x-python",
   "name": "python",
   "nbconvert_exporter": "python",
   "pygments_lexer": "ipython3",
   "version": "3.6.13"
  },
  "orig_nbformat": 4,
  "vscode": {
   "interpreter": {
    "hash": "e316b1ad1bb7084be8c3b1650f7484094eadbbf4b3451c2488d40589d31287db"
   }
  }
 },
 "nbformat": 4,
 "nbformat_minor": 2
}
