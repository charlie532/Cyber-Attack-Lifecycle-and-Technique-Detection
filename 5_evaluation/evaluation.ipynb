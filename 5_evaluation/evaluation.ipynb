{
 "cells": [],
 "metadata": {
  "kernelspec": {
   "display_name": "Python 3.6.13 ('DL_Pytorch')",
   "language": "python",
   "name": "python3"
  },
  "language_info": {
   "name": "python",
   "version": "3.6.13"
  },
  "orig_nbformat": 4,
  "vscode": {
   "interpreter": {
    "hash": "58b786e30cdbc3b74a42d719e3f9ad8821c36d51e81bf3441f14cc0e41ca0413"
   }
  }
 },
 "nbformat": 4,
 "nbformat_minor": 2
}
