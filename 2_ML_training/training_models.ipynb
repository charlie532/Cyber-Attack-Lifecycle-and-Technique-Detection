{
 "cells": [
  {
   "cell_type": "markdown",
   "metadata": {},
   "source": [
    "1. Load Data"
   ]
  },
  {
   "cell_type": "code",
   "execution_count": 2,
   "metadata": {},
   "outputs": [],
   "source": [
    "import pandas as pd\n",
    "import os\n",
    "\n",
    "# resample_X_filename = \"re_X_traffic.csv\"\n",
    "# resample_y_filename = \"re_y_traffic.csv\"\n",
    "# filename = 'select_preprocess_label_traffic.csv'\n",
    "# folder = os.path.join(\"..\", \"0_dataset\", \"traffic\")\n",
    "# models_folder = \"models_traffic\"\n",
    "\n",
    "# resample_X_filename = \"re_X_syslog.csv\"\n",
    "# resample_y_filename = \"re_y_syslog.csv\"\n",
    "# filename = 'select_preprocess_label_syslog.csv'\n",
    "# folder = os.path.join(\"..\", \"0_dataset\", \"syslog\")\n",
    "# models_folder = \"models_logs\"\n",
    "\n",
    "resample_X_filename = \"re_X_accounting.csv\"\n",
    "resample_y_filename = \"re_y_accounting.csv\"\n",
    "filename = 'select_preprocess_label_atop.csv'\n",
    "folder = os.path.join(\"..\", \"0_dataset\", \"accounting\")\n",
    "models_folder = \"models_accounting\"\n",
    "\n",
    "\n",
    "df = pd.read_csv(os.path.join(folder, filename))\n",
    "X = df.drop(columns=['Label'])\n",
    "X = X.values\n",
    "y = df['Label'].values\n",
    "y = y.reshape(-1)"
   ]
  },
  {
   "cell_type": "markdown",
   "metadata": {},
   "source": [
    "2. Define the Models"
   ]
  },
  {
   "cell_type": "code",
   "execution_count": 3,
   "metadata": {},
   "outputs": [],
   "source": [
    "# linear models\n",
    "from sklearn.linear_model import LogisticRegression, SGDClassifier, PassiveAggressiveClassifier\n",
    "# non-linear models\n",
    "from sklearn.tree import DecisionTreeClassifier, ExtraTreeClassifier\n",
    "from sklearn.svm import SVC\n",
    "from sklearn.naive_bayes import GaussianNB\n",
    "from sklearn.neighbors import KNeighborsClassifier\n",
    "# ensemble models\n",
    "from sklearn.ensemble import RandomForestClassifier, AdaBoostClassifier, BaggingClassifier, RandomForestClassifier, ExtraTreesClassifier, GradientBoostingClassifier\n",
    "from xgboost import XGBClassifier\n",
    "import pickle\n",
    "\n",
    "# balance data\n",
    "import numpy as np\n",
    "from sklearn.utils.class_weight import compute_sample_weight\n",
    "\n",
    "core = 4 # your computer's maximum core numbers, for improving the training speed\n",
    "\n",
    "\n",
    "# classes = np.unique(y_train)\n",
    "# sw = compute_sample_weight(class_weight='balance', y=y_train)\n",
    "models = {}\n",
    "# linear models\n",
    "models['Logistic_Regression'] = LogisticRegression(max_iter=1500, n_jobs=core)\n",
    "models['SGD'] = SGDClassifier(n_jobs=core)\n",
    "models['Passive_Aggressive'] = PassiveAggressiveClassifier(n_jobs=core)\n",
    "# non-linear models\n",
    "models['Decision_Tree'] = DecisionTreeClassifier()\n",
    "models['Extra_Tree'] = ExtraTreeClassifier()\n",
    "models['Gaussian_NB'] = GaussianNB()\n",
    "models['SVC'] = SVC(kernel='rbf', gamma='auto')\n",
    "models['KNeighbors'] = KNeighborsClassifier(n_jobs=core)\n",
    "# ensemble models\n",
    "# models['XGB'] = XGBClassifier(n_jobs=core)\n",
    "models['Random_Forest'] = RandomForestClassifier(n_jobs=core)\n",
    "models['Ada_Boost'] = AdaBoostClassifier()\n",
    "models['Bagging'] = BaggingClassifier(n_jobs=core)\n",
    "models['Extra_Trees'] = ExtraTreesClassifier(n_jobs=core)\n",
    "models['Gradient_Boosting'] = GradientBoostingClassifier()"
   ]
  },
  {
   "cell_type": "markdown",
   "metadata": {},
   "source": [
    "3. Training, testing, and evaluation"
   ]
  },
  {
   "cell_type": "code",
   "execution_count": 8,
   "metadata": {},
   "outputs": [],
   "source": [
    "import os\n",
    "import time\n",
    "from tqdm import tqdm\n",
    "from sklearn.model_selection import train_test_split \n",
    "from sklearn.metrics import accuracy_score, f1_score, precision_score, recall_score\n",
    "from imblearn.over_sampling import SMOTE\n",
    "from imblearn.combine import SMOTEENN\n",
    "\n",
    "# training and testing\n",
    "evaluation = {}\n",
    "for name in models:\n",
    "    evaluation[name] = {\n",
    "        'accuracy': [],\n",
    "        'precision': [],\n",
    "        'recall': [],\n",
    "        'f1_score': []\n",
    "    }\n",
    "\n",
    "X_train, X_test, y_train, y_test = train_test_split(X, y, test_size=0.2, random_state=42)\n",
    "start_re_time = time.time()\n",
    "# X_train_re, y_train_re = SMOTE(n_jobs=2).fit_resample(X_train, y_train)\n",
    "X_train_re, y_train_re = SMOTEENN(n_jobs=-1).fit_resample(X_train, y_train)\n",
    "end_re_time = time.time()\n",
    "\n",
    "print(\"resample time:{:.3f}s\".format(end_re_time - start_re_time))\n",
    "print(\"X_train:{}, y_train:{}\".format(len(X_train), len(y_train)))\n",
    "print(\"X_train_re:{}, y_train_re:{}\".format(X_train_re, y_train_re))\n",
    "for name, model in tqdm(models.items()):\n",
    "    start_train_time = time.time()\n",
    "    model_filename = os.path.join(models_folder, name)\n",
    "    if os.path.exists(model_filename): # load the model from disk\n",
    "        model = pickle.load(open(model_filename, 'rb'))\n",
    "    else:\n",
    "        print('Training model {}...'.format(name))\n",
    "        model.fit(X_train_re, y_train_re)\n",
    "        pickle.dump(model, open(model_filename, 'wb')) # save the model to disk\n",
    "    # y_score = model.decision_function(X_test) # for AUC curve\n",
    "    y_hat = model.predict(X_test) # for f1 score\n",
    "    \n",
    "    # evaluation\n",
    "    # balance_accuracy_score\n",
    "    evaluation[name]['accuracy'].append(accuracy_score(y_test, y_hat))\n",
    "    evaluation[name]['precision'].append(precision_score(y_test, y_hat, average='weighted'))\n",
    "    evaluation[name]['recall'].append(recall_score(y_test, y_hat, average='weighted'))\n",
    "    evaluation[name]['f1_score'].append(f1_score(y_test, y_hat, average='weighted'))\n",
    "    end_train_time = time.time()\n",
    "    print('model [{}] train time: {:.3f}'.format(name, end_train_time - start_train_time))\n"
   ]
  },
  {
   "cell_type": "markdown",
   "metadata": {},
   "source": [
    "4. Show the model evalution result (F1 score)"
   ]
  },
  {
   "cell_type": "code",
   "execution_count": null,
   "metadata": {},
   "outputs": [],
   "source": [
    "from statistics import mean\n",
    "import numpy as np\n",
    "import matplotlib.pyplot as plt\n",
    "import math\n",
    "\n",
    "def round_off(value, n):\n",
    "    return math.floor(value * (10 ** n)) / float(10 ** n) \n",
    "\n",
    "models = [name.replace('_', '\\n') for name in evaluation]\n",
    "result = {\n",
    "    'accuracy': [],\n",
    "    'precision': [],\n",
    "    'recall': [],\n",
    "    'f1_score': []\n",
    "}\n",
    "for name in evaluation:\n",
    "    for key, value in evaluation[name].items():\n",
    "        result[key].append(round_off(mean(value), 3))"
   ]
  },
  {
   "cell_type": "code",
   "execution_count": null,
   "metadata": {},
   "outputs": [],
   "source": [
    "width = 0.2\n",
    "x = np.arange(len(models))\n",
    "plt.figure(figsize=(20, 10))\n",
    "plt.bar(x, result['accuracy'], width, label='accuracy')\n",
    "plt.bar(x+width, result['precision'], width, label='precision')\n",
    "plt.bar(x+2*width, result['recall'], width, label='recall')\n",
    "bar = plt.bar(x+3*width, result['f1_score'], width, label='f1_score')\n",
    "plt.bar_label(bar, label_type='edge', fontsize=20)\n",
    "plt.title('Model Evaluation for Accounting', fontsize=30)\n",
    "plt.xticks(x+1.5*width, models)\n",
    "plt.xlabel('model', fontsize=25)\n",
    "plt.ylabel('value', fontsize=25)\n",
    "plt.rcParams.update({\n",
    "    'xtick.labelsize': 16,\n",
    "    'ytick.labelsize': 20,\n",
    "})\n",
    "plt.legend(bbox_to_anchor=(1, 1), loc='upper left', fontsize=20)\n",
    "plt.show()"
   ]
  },
  {
   "cell_type": "code",
   "execution_count": null,
   "metadata": {},
   "outputs": [],
   "source": [
    "idth = 0.4\n",
    "x = np.arange(len(models))\n",
    "plt.figure(figsize=(20, 10))\n",
    "plt.bar(x, result['accuracy'], width, label='accuracy')\n",
    "bar = plt.bar(x+width, result['f1_score'], width, label='f1_score')\n",
    "plt.bar_label(bar, label_type='edge', fontsize=20)\n",
    "plt.xticks(x+width, models)\n",
    "plt.title('Model Evaluation for Accounting', fontsize=30)\n",
    "plt.xticks(x+0.5*width, models)\n",
    "plt.xlabel('model', fontsize=25)\n",
    "plt.ylabel('value', fontsize=25)\n",
    "plt.rcParams.update({\n",
    "    'xtick.labelsize': 16,\n",
    "    'ytick.labelsize': 20,\n",
    "})\n",
    "plt.legend(bbox_to_anchor=(1, 1), loc='upper left', fontsize=20)\n",
    "plt.show()"
   ]
  }
 ],
 "metadata": {
  "kernelspec": {
   "display_name": "Python 3.6.13 ('multistage')",
   "language": "python",
   "name": "python3"
  },
  "language_info": {
   "codemirror_mode": {
    "name": "ipython",
    "version": 3
   },
   "file_extension": ".py",
   "mimetype": "text/x-python",
   "name": "python",
   "nbconvert_exporter": "python",
   "pygments_lexer": "ipython3",
   "version": "3.6.13"
  },
  "orig_nbformat": 4,
  "vscode": {
   "interpreter": {
    "hash": "e316b1ad1bb7084be8c3b1650f7484094eadbbf4b3451c2488d40589d31287db"
   }
  }
 },
 "nbformat": 4,
 "nbformat_minor": 2
}
