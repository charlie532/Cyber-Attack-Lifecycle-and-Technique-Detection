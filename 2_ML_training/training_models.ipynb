{
 "cells": [
  {
   "cell_type": "markdown",
   "metadata": {},
   "source": [
    "1. Load Data"
   ]
  },
  {
   "cell_type": "code",
   "execution_count": 3,
   "metadata": {},
   "outputs": [],
   "source": [
    "import pandas as pd\n",
    "import os\n",
    "\n",
    "# resample_X_filename = \"re_X_traffic.csv\"\n",
    "# resample_y_filename = \"re_y_traffic.csv\"\n",
    "# filename = 'select_preprocess_label_traffic.csv'\n",
    "# folder = os.path.join(\"..\", \"0_dataset\", \"traffic\")\n",
    "# models_folder = \"models_traffic\"\n",
    "\n",
    "# resample_X_filename = \"re_X_syslog.csv\"\n",
    "# resample_y_filename = \"re_y_syslog.csv\"\n",
    "# filename = 'select_preprocess_label_syslog.csv'\n",
    "# folder = os.path.join(\"..\", \"0_dataset\", \"syslog\")\n",
    "# models_folder = \"models_logs\"\n",
    "\n",
    "resample_X_filename = \"re_X_accounting.csv\"\n",
    "resample_y_filename = \"re_y_accounting.csv\"\n",
    "filename = 'select_preprocess_label_atop.csv'\n",
    "folder = os.path.join(\"..\", \"0_dataset\", \"accounting\")\n",
    "models_folder = \"models_accounting\"\n",
    "\n",
    "\n",
    "df = pd.read_csv(os.path.join(folder, filename))\n",
    "X = df.drop(columns=['Label'])\n",
    "X = X.values\n",
    "y = df['Label'].values\n",
    "y = y.reshape(-1)"
   ]
  },
  {
   "cell_type": "markdown",
   "metadata": {},
   "source": [
    "2. Define the Models"
   ]
  },
  {
   "cell_type": "code",
   "execution_count": 4,
   "metadata": {},
   "outputs": [
    {
     "name": "stderr",
     "output_type": "stream",
     "text": [
      "c:\\Users\\user\\anaconda3\\envs\\lab\\lib\\site-packages\\xgboost\\compat.py:36: FutureWarning: pandas.Int64Index is deprecated and will be removed from pandas in a future version. Use pandas.Index with the appropriate dtype instead.\n",
      "  from pandas import MultiIndex, Int64Index\n"
     ]
    }
   ],
   "source": [
    "# linear models\n",
    "from sklearn.linear_model import LogisticRegression, SGDClassifier, PassiveAggressiveClassifier\n",
    "# non-linear models\n",
    "from sklearn.tree import DecisionTreeClassifier, ExtraTreeClassifier\n",
    "from sklearn.svm import SVC\n",
    "from sklearn.naive_bayes import GaussianNB\n",
    "from sklearn.neighbors import KNeighborsClassifier\n",
    "# ensemble models\n",
    "from sklearn.ensemble import RandomForestClassifier, AdaBoostClassifier, BaggingClassifier, RandomForestClassifier, ExtraTreesClassifier, GradientBoostingClassifier\n",
    "from xgboost import XGBClassifier\n",
    "import pickle\n",
    "\n",
    "# balance data\n",
    "import numpy as np\n",
    "from sklearn.utils.class_weight import compute_sample_weight\n",
    "\n",
    "core = 4 # your computer's maximum core numbers, for improving the training speed\n",
    "\n",
    "\n",
    "# classes = np.unique(y_train)\n",
    "# sw = compute_sample_weight(class_weight='balance', y=y_train)\n",
    "models = {}\n",
    "# linear models\n",
    "models['Logistic_Regression'] = LogisticRegression(max_iter=1500, n_jobs=core)\n",
    "models['SGD'] = SGDClassifier(n_jobs=core)\n",
    "models['Passive_Aggressive'] = PassiveAggressiveClassifier(n_jobs=core)\n",
    "# non-linear models\n",
    "models['Decision_Tree'] = DecisionTreeClassifier()\n",
    "models['Extra_Tree'] = ExtraTreeClassifier()\n",
    "models['Gaussian_NB'] = GaussianNB()\n",
    "models['SVC'] = SVC(kernel='rbf', gamma='auto')\n",
    "models['KNeighbors'] = KNeighborsClassifier(n_jobs=core)\n",
    "# ensemble models\n",
    "# models['XGB'] = XGBClassifier(n_jobs=core)\n",
    "models['Random_Forest'] = RandomForestClassifier(n_jobs=core)\n",
    "models['Ada_Boost'] = AdaBoostClassifier()\n",
    "models['Bagging'] = BaggingClassifier(n_jobs=core)\n",
    "models['Extra_Trees'] = ExtraTreesClassifier(n_jobs=core)\n",
    "models['Gradient_Boosting'] = GradientBoostingClassifier()"
   ]
  },
  {
   "cell_type": "markdown",
   "metadata": {},
   "source": [
    "3. Training, testing, and evaluation"
   ]
  },
  {
   "cell_type": "code",
   "execution_count": 6,
   "metadata": {},
   "outputs": [
    {
     "name": "stdout",
     "output_type": "stream",
     "text": [
      "[ 0 12  7  5 16 15  8 11 17  3 14  6  2  4  1  9]\n",
      "X_train:101630, y_train:101630\n"
     ]
    },
    {
     "name": "stderr",
     "output_type": "stream",
     "text": [
      " 46%|████▌     | 6/13 [00:11<00:08,  1.15s/it]"
     ]
    }
   ],
   "source": [
    "import os\n",
    "import time\n",
    "from tqdm import tqdm\n",
    "from sklearn.model_selection import train_test_split \n",
    "from sklearn.metrics import accuracy_score, f1_score, precision_score, recall_score\n",
    "from imblearn.over_sampling import SMOTE\n",
    "from imblearn.combine import SMOTEENN\n",
    "\n",
    "# training and testing\n",
    "evaluation = {}\n",
    "for name in models:\n",
    "    evaluation[name] = {\n",
    "        'accuracy': [],\n",
    "        'precision': [],\n",
    "        'recall': [],\n",
    "        'f1_score': []\n",
    "    }\n",
    "\n",
    "X_train, X_test, y_train, y_test = train_test_split(X, y, test_size=0.2, random_state=42)\n",
    "\n",
    "# start_re_time = time.time()\n",
    "# # X_train_re, y_train_re = SMOTE(n_jobs=-1).fit_resample(X_train, y_train)\n",
    "# if os.path.exists(resample_X_filename) and os.path.exists(resample_y_filename):\n",
    "#     X_train_re = np.loadtxt(resample_X_filename, delimiter=\",\")\n",
    "#     y_train_re = np.loadtxt(resample_y_filename, delimiter=\",\")\n",
    "# else:\n",
    "#     X_train_re, y_train_re = SMOTEENN(n_jobs=-1).fit_resample(X_train, y_train)\n",
    "#     np.savetxt(resample_X_filename, X_train_re, delimiter=\",\")\n",
    "#     np.savetxt(resample_y_filename, y_train_re, delimiter=\",\")\n",
    "# end_re_time = time.time()\n",
    "# print(\"resample time:{:.3f}s\".format(end_re_time - start_re_time))\n",
    "# print(\"X_train_re:{}, y_train_re:{}\".format(X_train_re, y_train_re))\n",
    "print(pd.unique(y_test))\n",
    "print(\"X_train:{}, y_train:{}\".format(len(X_train), len(y_train)))\n",
    "for name, model in tqdm(models.items()):\n",
    "    model_filename = os.path.join(models_folder, name)\n",
    "    if os.path.exists(model_filename): # load the model from disk\n",
    "        model = pickle.load(open(model_filename, 'rb'))\n",
    "    else:\n",
    "        model.fit(X_train, y_train)\n",
    "        # model.fit(X_train_re, y_train_re)\n",
    "        pickle.dump(model, open(model_filename, 'wb')) # save the model to disk\n",
    "    # y_score = model.decision_function(X_test) # for AUC curve\n",
    "    y_hat = model.predict(X_test) # for f1 score\n",
    "    \n",
    "    # evaluation\n",
    "    # balance_accuracy_score\n",
    "    evaluation[name]['accuracy'].append(accuracy_score(y_test, y_hat,))\n",
    "    evaluation[name]['precision'].append(precision_score(y_test, y_hat, average='weighted',zero_division=0))\n",
    "    evaluation[name]['recall'].append(recall_score(y_test, y_hat, average='weighted', zero_division=0))\n",
    "    evaluation[name]['f1_score'].append(f1_score(y_test, y_hat, average='weighted', zero_division=0))\n"
   ]
  },
  {
   "cell_type": "markdown",
   "metadata": {},
   "source": [
    "4. Show the model evalution result (F1 score)"
   ]
  },
  {
   "cell_type": "code",
   "execution_count": 1,
   "metadata": {},
   "outputs": [
    {
     "ename": "NameError",
     "evalue": "name 'evaluation' is not defined",
     "output_type": "error",
     "traceback": [
      "\u001b[1;31m---------------------------------------------------------------------------\u001b[0m",
      "\u001b[1;31mNameError\u001b[0m                                 Traceback (most recent call last)",
      "Cell \u001b[1;32mIn [1], line 9\u001b[0m\n\u001b[0;32m      6\u001b[0m \u001b[39mdef\u001b[39;00m \u001b[39mround_off\u001b[39m(value, n):\n\u001b[0;32m      7\u001b[0m     \u001b[39mreturn\u001b[39;00m math\u001b[39m.\u001b[39mfloor(value \u001b[39m*\u001b[39m (\u001b[39m10\u001b[39m \u001b[39m*\u001b[39m\u001b[39m*\u001b[39m n)) \u001b[39m/\u001b[39m \u001b[39mfloat\u001b[39m(\u001b[39m10\u001b[39m \u001b[39m*\u001b[39m\u001b[39m*\u001b[39m n) \n\u001b[1;32m----> 9\u001b[0m models \u001b[39m=\u001b[39m [name\u001b[39m.\u001b[39mreplace(\u001b[39m'\u001b[39m\u001b[39m_\u001b[39m\u001b[39m'\u001b[39m, \u001b[39m'\u001b[39m\u001b[39m\\n\u001b[39;00m\u001b[39m'\u001b[39m) \u001b[39mfor\u001b[39;00m name \u001b[39min\u001b[39;00m evaluation]\n\u001b[0;32m     10\u001b[0m result \u001b[39m=\u001b[39m {\n\u001b[0;32m     11\u001b[0m     \u001b[39m'\u001b[39m\u001b[39maccuracy\u001b[39m\u001b[39m'\u001b[39m: [],\n\u001b[0;32m     12\u001b[0m     \u001b[39m'\u001b[39m\u001b[39mprecision\u001b[39m\u001b[39m'\u001b[39m: [],\n\u001b[0;32m     13\u001b[0m     \u001b[39m'\u001b[39m\u001b[39mrecall\u001b[39m\u001b[39m'\u001b[39m: [],\n\u001b[0;32m     14\u001b[0m     \u001b[39m'\u001b[39m\u001b[39mf1_score\u001b[39m\u001b[39m'\u001b[39m: []\n\u001b[0;32m     15\u001b[0m }\n\u001b[0;32m     16\u001b[0m \u001b[39mfor\u001b[39;00m name \u001b[39min\u001b[39;00m evaluation:\n",
      "\u001b[1;31mNameError\u001b[0m: name 'evaluation' is not defined"
     ]
    }
   ],
   "source": [
    "from statistics import mean\n",
    "import numpy as np\n",
    "import matplotlib.pyplot as plt\n",
    "import math\n",
    "\n",
    "def round_off(value, n):\n",
    "    return math.floor(value * (10 ** n)) / float(10 ** n) \n",
    "\n",
    "models = [name.replace('_', '\\n') for name in evaluation]\n",
    "result = {\n",
    "    'accuracy': [],\n",
    "    'precision': [],\n",
    "    'recall': [],\n",
    "    'f1_score': []\n",
    "}\n",
    "for name in evaluation:\n",
    "    for key, value in evaluation[name].items():\n",
    "        result[key].append(round_off(mean(value), 3))"
   ]
  },
  {
   "cell_type": "code",
   "execution_count": 8,
   "metadata": {},
   "outputs": [
    {
     "ename": "AttributeError",
     "evalue": "module 'matplotlib.pyplot' has no attribute 'bar_label'",
     "output_type": "error",
     "traceback": [
      "\u001b[1;31m---------------------------------------------------------------------------\u001b[0m",
      "\u001b[1;31mAttributeError\u001b[0m                            Traceback (most recent call last)",
      "\u001b[1;32m<ipython-input-8-38560d004249>\u001b[0m in \u001b[0;36m<module>\u001b[1;34m\u001b[0m\n\u001b[0;32m      6\u001b[0m \u001b[0mplt\u001b[0m\u001b[1;33m.\u001b[0m\u001b[0mbar\u001b[0m\u001b[1;33m(\u001b[0m\u001b[0mx\u001b[0m\u001b[1;33m+\u001b[0m\u001b[1;36m2\u001b[0m\u001b[1;33m*\u001b[0m\u001b[0mwidth\u001b[0m\u001b[1;33m,\u001b[0m \u001b[0mresult\u001b[0m\u001b[1;33m[\u001b[0m\u001b[1;34m'recall'\u001b[0m\u001b[1;33m]\u001b[0m\u001b[1;33m,\u001b[0m \u001b[0mwidth\u001b[0m\u001b[1;33m,\u001b[0m \u001b[0mlabel\u001b[0m\u001b[1;33m=\u001b[0m\u001b[1;34m'recall'\u001b[0m\u001b[1;33m)\u001b[0m\u001b[1;33m\u001b[0m\u001b[1;33m\u001b[0m\u001b[0m\n\u001b[0;32m      7\u001b[0m \u001b[0mbar\u001b[0m \u001b[1;33m=\u001b[0m \u001b[0mplt\u001b[0m\u001b[1;33m.\u001b[0m\u001b[0mbar\u001b[0m\u001b[1;33m(\u001b[0m\u001b[0mx\u001b[0m\u001b[1;33m+\u001b[0m\u001b[1;36m3\u001b[0m\u001b[1;33m*\u001b[0m\u001b[0mwidth\u001b[0m\u001b[1;33m,\u001b[0m \u001b[0mresult\u001b[0m\u001b[1;33m[\u001b[0m\u001b[1;34m'f1_score'\u001b[0m\u001b[1;33m]\u001b[0m\u001b[1;33m,\u001b[0m \u001b[0mwidth\u001b[0m\u001b[1;33m,\u001b[0m \u001b[0mlabel\u001b[0m\u001b[1;33m=\u001b[0m\u001b[1;34m'f1_score'\u001b[0m\u001b[1;33m)\u001b[0m\u001b[1;33m\u001b[0m\u001b[1;33m\u001b[0m\u001b[0m\n\u001b[1;32m----> 8\u001b[1;33m \u001b[0mplt\u001b[0m\u001b[1;33m.\u001b[0m\u001b[0mbar_label\u001b[0m\u001b[1;33m(\u001b[0m\u001b[0mbar\u001b[0m\u001b[1;33m,\u001b[0m \u001b[0mlabel_type\u001b[0m\u001b[1;33m=\u001b[0m\u001b[1;34m'edge'\u001b[0m\u001b[1;33m,\u001b[0m \u001b[0mfontsize\u001b[0m\u001b[1;33m=\u001b[0m\u001b[1;36m20\u001b[0m\u001b[1;33m)\u001b[0m\u001b[1;33m\u001b[0m\u001b[1;33m\u001b[0m\u001b[0m\n\u001b[0m\u001b[0;32m      9\u001b[0m \u001b[0mplt\u001b[0m\u001b[1;33m.\u001b[0m\u001b[0mtitle\u001b[0m\u001b[1;33m(\u001b[0m\u001b[1;34m'Model Evaluation for Accounting'\u001b[0m\u001b[1;33m,\u001b[0m \u001b[0mfontsize\u001b[0m\u001b[1;33m=\u001b[0m\u001b[1;36m30\u001b[0m\u001b[1;33m)\u001b[0m\u001b[1;33m\u001b[0m\u001b[1;33m\u001b[0m\u001b[0m\n\u001b[0;32m     10\u001b[0m \u001b[0mplt\u001b[0m\u001b[1;33m.\u001b[0m\u001b[0mxticks\u001b[0m\u001b[1;33m(\u001b[0m\u001b[0mx\u001b[0m\u001b[1;33m+\u001b[0m\u001b[1;36m1.5\u001b[0m\u001b[1;33m*\u001b[0m\u001b[0mwidth\u001b[0m\u001b[1;33m,\u001b[0m \u001b[0mmodels\u001b[0m\u001b[1;33m)\u001b[0m\u001b[1;33m\u001b[0m\u001b[1;33m\u001b[0m\u001b[0m\n",
      "\u001b[1;31mAttributeError\u001b[0m: module 'matplotlib.pyplot' has no attribute 'bar_label'"
     ]
    },
    {
     "data": {
      "image/png": "[encoded data removed]",
      "text/plain": [
       "<Figure size 1440x720 with 1 Axes>"
      ]
     },
     "metadata": {
      "needs_background": "light"
     },
     "output_type": "display_data"
    }
   ],
   "source": [
    "width = 0.2\n",
    "x = np.arange(len(models))\n",
    "plt.figure(figsize=(20, 10))\n",
    "plt.bar(x, result['accuracy'], width, label='accuracy')\n",
    "plt.bar(x+width, result['precision'], width, label='precision')\n",
    "plt.bar(x+2*width, result['recall'], width, label='recall')\n",
    "bar = plt.bar(x+3*width, result['f1_score'], width, label='f1_score')\n",
    "plt.bar_label(bar, label_type='edge', fontsize=20)\n",
    "plt.title('Model Evaluation for Accounting', fontsize=30)\n",
    "plt.xticks(x+1.5*width, models)\n",
    "plt.xlabel('model', fontsize=25)\n",
    "plt.ylabel('value', fontsize=25)\n",
    "plt.rcParams.update({\n",
    "    'xtick.labelsize': 16,\n",
    "    'ytick.labelsize': 20,\n",
    "})\n",
    "plt.legend(bbox_to_anchor=(1, 1), loc='upper left', fontsize=20)\n",
    "plt.show()"
   ]
  },
  {
   "cell_type": "code",
   "execution_count": null,
   "metadata": {},
   "outputs": [],
   "source": [
    "idth = 0.4\n",
    "x = np.arange(len(models))\n",
    "plt.figure(figsize=(20, 10))\n",
    "plt.bar(x, result['accuracy'], width, label='accuracy')\n",
    "bar = plt.bar(x+width, result['f1_score'], width, label='f1_score')\n",
    "plt.bar_label(bar, label_type='edge', fontsize=20)\n",
    "plt.xticks(x+width, models)\n",
    "plt.title('Model Evaluation for Accounting', fontsize=30)\n",
    "plt.xticks(x+0.5*width, models)\n",
    "plt.xlabel('model', fontsize=25)\n",
    "plt.ylabel('value', fontsize=25)\n",
    "plt.rcParams.update({\n",
    "    'xtick.labelsize': 16,\n",
    "    'ytick.labelsize': 20,\n",
    "})\n",
    "plt.legend(bbox_to_anchor=(1, 1), loc='upper left', fontsize=20)\n",
    "plt.show()"
   ]
  },
  {
   "cell_type": "code",
   "execution_count": null,
   "metadata": {},
   "outputs": [],
   "source": [
    "import matplotlib.pyplot as plt\n",
    "from sklearn.datasets import make_classification\n",
    "from sklearn.metrics import plot_confusion_matrix\n",
    "from sklearn.model_selection import train_test_split\n",
    "\n",
    "X, y = make_classification(random_state=0)\n",
    "X_train, X_test, y_train, y_test = train_test_split(X, y, random_state=0)\n",
    "model = \n",
    "\n",
    "plot_confusion_matrix(model, X_test, y_test)  \n",
    "plt.show()"
   ]
  }
 ],
 "metadata": {
  "kernelspec": {
   "display_name": "Python 3.8.15 ('lab')",
   "language": "python",
   "name": "python3"
  },
  "language_info": {
   "codemirror_mode": {
    "name": "ipython",
    "version": 3
   },
   "file_extension": ".py",
   "mimetype": "text/x-python",
   "name": "python",
   "nbconvert_exporter": "python",
   "pygments_lexer": "ipython3",
   "version": "3.8.15"
  },
  "orig_nbformat": 4,
  "vscode": {
   "interpreter": {
    "hash": "acbeb801ef841938b72c15cd1756d069d76df8d13059b274a4de3d770d945625"
   }
  }
 },
 "nbformat": 4,
 "nbformat_minor": 2
}
